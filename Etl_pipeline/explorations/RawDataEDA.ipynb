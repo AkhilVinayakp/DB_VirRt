{
 "cells": [
  {
   "cell_type": "code",
   "execution_count": 0,
   "metadata": {
    "application/vnd.databricks.v1+cell": {
     "cellMetadata": {
      "byteLimit": 2048000,
      "rowLimit": 10000
     },
     "inputWidgets": {},
     "nuid": "ed7eb0a8-2d89-46c8-b7d0-57ecd59091d6",
     "showTitle": false,
     "tableResultSettingsMap": {},
     "title": ""
    }
   },
   "outputs": [],
   "source": [
    "# creating a monitoring task for raw data gathering and creating dashboard"
   ]
  },
  {
   "cell_type": "code",
   "execution_count": 0,
   "metadata": {
    "application/vnd.databricks.v1+cell": {
     "cellMetadata": {
      "byteLimit": 2048000,
      "implicitDf": true,
      "rowLimit": 10000
     },
     "inputWidgets": {},
     "nuid": "5fd15bfa-e6d3-4c11-bd90-da5ecd387736",
     "showTitle": false,
     "tableResultSettingsMap": {},
     "title": ""
    }
   },
   "outputs": [],
   "source": [
    "%sql\n",
    "select * from mycatalog.hp_prd_data.raw_data limit 2"
   ]
  },
  {
   "cell_type": "code",
   "execution_count": 0,
   "metadata": {
    "application/vnd.databricks.v1+cell": {
     "cellMetadata": {
      "byteLimit": 2048000,
      "implicitDf": true,
      "rowLimit": 10000
     },
     "inputWidgets": {},
     "nuid": "36d15c3f-dad3-4439-abb4-693c4cecd139",
     "showTitle": false,
     "tableResultSettingsMap": {},
     "title": ""
    }
   },
   "outputs": [],
   "source": [
    "%sql\n",
    "select\n",
    " processed_date,\n",
    " processed_hour,\n",
    " http_status_code,\n",
    " count(*) as total_rows,\n",
    " count(Distinct zipcode) as total_zipcodes\n",
    "from mycatalog.hp_prd_data.raw_data\n",
    "group by processed_date, processed_hour, http_status_code\n",
    "order by processed_date desc"
   ]
  },
  {
   "cell_type": "code",
   "execution_count": 0,
   "metadata": {
    "application/vnd.databricks.v1+cell": {
     "cellMetadata": {
      "byteLimit": 2048000,
      "implicitDf": true,
      "rowLimit": 10000
     },
     "inputWidgets": {},
     "nuid": "b199cf45-b8ec-434d-88ed-318b07f596a0",
     "showTitle": false,
     "tableResultSettingsMap": {},
     "title": ""
    }
   },
   "outputs": [],
   "source": [
    "%sql\n",
    "select\n",
    " count(*) as total_rows,\n",
    " count(Distinct source_url) as total_sources,\n",
    " count(Distinct zipcode) as total_zipcodes\n",
    "from mycatalog.hp_prd_data.raw_data"
   ]
  },
  {
   "cell_type": "code",
   "execution_count": 0,
   "metadata": {
    "application/vnd.databricks.v1+cell": {
     "cellMetadata": {},
     "inputWidgets": {},
     "nuid": "d54c1313-5a2e-4e69-95ad-ff0a70abd2e9",
     "showTitle": false,
     "tableResultSettingsMap": {},
     "title": ""
    }
   },
   "outputs": [],
   "source": [
    "# there are some duplicates do deduplication while transforming"
   ]
  },
  {
   "cell_type": "code",
   "execution_count": 0,
   "metadata": {
    "application/vnd.databricks.v1+cell": {
     "cellMetadata": {
      "byteLimit": 2048000,
      "rowLimit": 10000
     },
     "inputWidgets": {},
     "nuid": "d7a994f9-abac-4025-be90-c4d823cc51d9",
     "showTitle": false,
     "tableResultSettingsMap": {},
     "title": ""
    }
   },
   "outputs": [],
   "source": [
    "# Parsing raw data"
   ]
  },
  {
   "cell_type": "code",
   "execution_count": 0,
   "metadata": {
    "application/vnd.databricks.v1+cell": {
     "cellMetadata": {
      "byteLimit": 2048000,
      "rowLimit": 10000
     },
     "inputWidgets": {},
     "nuid": "47f9dbe5-9eb9-48fd-8c63-f4b4a2475408",
     "showTitle": false,
     "tableResultSettingsMap": {},
     "title": ""
    }
   },
   "outputs": [],
   "source": [
    "import requests\n",
    "import json"
   ]
  },
  {
   "cell_type": "code",
   "execution_count": 0,
   "metadata": {
    "application/vnd.databricks.v1+cell": {
     "cellMetadata": {
      "byteLimit": 2048000,
      "rowLimit": 10000
     },
     "inputWidgets": {},
     "nuid": "707eb371-ea34-475a-947e-95806c7a9cb1",
     "showTitle": false,
     "tableResultSettingsMap": {},
     "title": ""
    }
   },
   "outputs": [],
   "source": [
    "import json\n",
    "from pyspark.sql.functions import udf\n",
    "from pyspark.sql.types import MapType, StringType\n",
    "\n",
    "def parse_json_text(text: str):\n",
    "    if text is None:\n",
    "        return None\n",
    "    json_text = text[4:]\n",
    "    try:\n",
    "        data = json.loads(json_text)\n",
    "    except Exception as e:\n",
    "        # You can log the error or skip\n",
    "        data = None\n",
    "    return data\n"
   ]
  },
  {
   "cell_type": "code",
   "execution_count": 0,
   "metadata": {
    "application/vnd.databricks.v1+cell": {
     "cellMetadata": {
      "byteLimit": 2048000,
      "rowLimit": 10000
     },
     "inputWidgets": {},
     "nuid": "a1192537-50fe-4d38-a0ab-17cb5cac702a",
     "showTitle": false,
     "tableResultSettingsMap": {},
     "title": ""
    }
   },
   "outputs": [],
   "source": [
    "import json\n",
    "def parser(text: str):\n",
    "    json_text = text[4:]\n",
    "    try:\n",
    "        data = json.loads(json_text)\n",
    "    except Exception as e:\n",
    "        print(\"unable to parse the text error \", e)\n",
    "        print(\"response length \", len(text))\n",
    "        data = None\n",
    "    return data"
   ]
  },
  {
   "cell_type": "code",
   "execution_count": 0,
   "metadata": {
    "application/vnd.databricks.v1+cell": {
     "cellMetadata": {
      "byteLimit": 2048000,
      "rowLimit": 10000
     },
     "inputWidgets": {},
     "nuid": "5da85c3b-4f7b-4226-9fef-b08f2b2a117a",
     "showTitle": false,
     "tableResultSettingsMap": {},
     "title": ""
    }
   },
   "outputs": [],
   "source": [
    "df = spark.sql(\"select raw_json from mycatalog.hp_prd_data.raw_data limit 1\").collect()[0]\n",
    "response_text = df['raw_json']"
   ]
  },
  {
   "cell_type": "code",
   "execution_count": 0,
   "metadata": {
    "application/vnd.databricks.v1+cell": {
     "cellMetadata": {
      "byteLimit": 2048000,
      "rowLimit": 10000
     },
     "inputWidgets": {},
     "nuid": "19339275-21af-46f1-99e5-62f623c11c21",
     "showTitle": false,
     "tableResultSettingsMap": {},
     "title": ""
    }
   },
   "outputs": [],
   "source": [
    "response_text"
   ]
  },
  {
   "cell_type": "code",
   "execution_count": 0,
   "metadata": {
    "application/vnd.databricks.v1+cell": {
     "cellMetadata": {
      "byteLimit": 2048000,
      "rowLimit": 10000
     },
     "inputWidgets": {},
     "nuid": "67e7dfe4-07ca-4bfc-8979-939708faee11",
     "showTitle": false,
     "tableResultSettingsMap": {},
     "title": ""
    }
   },
   "outputs": [],
   "source": [
    "raw_json = parser(response_text)"
   ]
  },
  {
   "cell_type": "code",
   "execution_count": 0,
   "metadata": {
    "application/vnd.databricks.v1+cell": {
     "cellMetadata": {
      "byteLimit": 2048000,
      "rowLimit": 10000
     },
     "inputWidgets": {},
     "nuid": "fc5a78f4-6b69-4c6d-9f9f-db60e625d240",
     "showTitle": false,
     "tableResultSettingsMap": {},
     "title": ""
    }
   },
   "outputs": [],
   "source": [
    "raw_json"
   ]
  },
  {
   "cell_type": "code",
   "execution_count": 0,
   "metadata": {
    "application/vnd.databricks.v1+cell": {
     "cellMetadata": {
      "byteLimit": 2048000,
      "rowLimit": 10000
     },
     "inputWidgets": {},
     "nuid": "71619afa-5735-4fe7-8707-f88a7acf7934",
     "showTitle": false,
     "tableResultSettingsMap": {},
     "title": ""
    }
   },
   "outputs": [],
   "source": [
    "# now we need to create pyspark code\n",
    "# how to load required data from the upstream\n",
    "# db we may have the options to load only."
   ]
  },
  {
   "cell_type": "code",
   "execution_count": 0,
   "metadata": {
    "application/vnd.databricks.v1+cell": {
     "cellMetadata": {},
     "inputWidgets": {},
     "nuid": "2375c2e7-a334-4a7a-ab03-f3ceb526cfac",
     "showTitle": false,
     "tableResultSettingsMap": {},
     "title": ""
    }
   },
   "outputs": [],
   "source": [
    "# target table: mycatalog.hp_prd_data.parsed_data\n",
    "try:\n",
    "    last_processed_timestamp = spark"
   ]
  },
  {
   "cell_type": "code",
   "execution_count": 0,
   "metadata": {
    "application/vnd.databricks.v1+cell": {
     "cellMetadata": {},
     "inputWidgets": {},
     "nuid": "e74b04a0-01d9-4284-8134-f129fdfc7460",
     "showTitle": false,
     "tableResultSettingsMap": {},
     "title": ""
    }
   },
   "outputs": [],
   "source": [
    "# timestamp calculation\n",
    "    # last_processed_timestamp = spark.sql(\"select max(ingestion_timestamp) from mycatalog.hp_prd_data.parsed_data\").collect()[0]['max']\n",
    "\n"
   ]
  },
  {
   "cell_type": "code",
   "execution_count": 0,
   "metadata": {
    "application/vnd.databricks.v1+cell": {
     "cellMetadata": {
      "byteLimit": 2048000,
      "rowLimit": 10000
     },
     "inputWidgets": {},
     "nuid": "4ece1b10-f008-4ff8-9a1c-0eeeebedbc32",
     "showTitle": false,
     "tableResultSettingsMap": {},
     "title": ""
    }
   },
   "outputs": [],
   "source": [
    "def process(row):\n",
    "    try:\n",
    "        return {\n",
    "            \"mls#\": row.get(\"mlsId\", {}).get(\"value\"),\n",
    "            \"mls_status\": row.get(\"mlsStatus\"),\n",
    "            \"house_price\": row.get(\"price\", {}).get(\"value\"),\n",
    "            \"hoa\": row.get(\"hoa\", {}).get(\"value\"),\n",
    "            \"sqft\": row.get(\"sqft\", {}).get(\"value\"),\n",
    "            \"price_per_sqft\": row.get(\"pricePerSqFt\", {}).get(\"value\"),\n",
    "            \"lot_size\": row.get(\"lotSize\", {}).get(\"value\"),\n",
    "            \"beds\": row.get(\"beds\"),\n",
    "            \"baths\": row.get(\"baths\"),\n",
    "            \"fullbaths\": row.get(\"fullbaths\"),\n",
    "            \"partialBaths\": row.get(\"partialBaths\"),\n",
    "            \"location\": row.get(\"location\", {}).get(\"value\"),\n",
    "            \"stories\": row.get(\"stories\"),\n",
    "            \"latitude\": row.get(\"latLong\", {}).get(\"value\", {}).get(\"latitude\"),  # noqa\n",
    "            \"longitude\": row.get(\"latLong\", {}).get(\"value\", {}).get(\"longitude\"),  # noqa\n",
    "            \"streetLine\": row.get(\"streetLine\", {}).get(\"value\"),\n",
    "            \"city\": row.get(\"city\"),\n",
    "            \"state\": row.get(\"state\"),\n",
    "            \"zip\": row.get(\"zip\"),\n",
    "            \"postalCode\": row.get(\"postalCode\", {}).get(\"value\"),\n",
    "            \"countryCode\": row.get(\"countryCode\"),\n",
    "            # \"soldDate\": row.get(\"soldDate\", {}).get(\"$numberLong\"),\n",
    "            \"searchStatus\": row.get(\"searchStatus\"),\n",
    "            \"propertyType\": row.get(\"propertyType\"),\n",
    "            \"uiPropertyType\": row.get(\"uiPropertyType\"),\n",
    "            \"listingType\": row.get(\"listingType\"),\n",
    "            \"propertyId\": row.get(\"propertyId\"),\n",
    "            \"listingId\": row.get(\"listingId\"),\n",
    "            \"dataSourceId\": row.get(\"dataSourceId\"),\n",
    "            \"marketId\": row.get(\"marketId\"),\n",
    "            \"yearBuilt\": row.get(\"yearBuilt\", {}).get(\"value\"),\n",
    "            \"openHouseStartFormatted\": row.get(\"openHouseStartFormatted\"),\n",
    "            \"openHouseEventName\": row.get(\"openHouseEventName\"),\n",
    "            \"url\": row.get(\"url\"),\n",
    "            \"isHot\": row.get(\"isHot\"),\n",
    "            \"hasVirtualTour\": row.get(\"hasVirtualTour\"),\n",
    "            \"hasVideoTour\": row.get(\"hasVideoTour\"),\n",
    "            \"has3DTour\": row.get(\"has3DTour\"),\n",
    "            \"isActiveKeyListing\": row.get(\"isActiveKeyListing\"),\n",
    "            \"isNewConstruction\": row.get(\"isNewConstruction\"),\n",
    "            \"listingRemarks\": row.get(\"listingRemarks\"),\n",
    "            \"scanUrl\": row.get(\"scanUrl\"),\n",
    "            \"posterFrameUrl\": row.get(\"posterFrameUrl\")\n",
    "            }\n",
    "    except KeyError as e:\n",
    "        print(\"Key error occured when parsing single doc:\", e)\n",
    "        print(\"original doc: ------------\\n \", row)\n",
    "        print(\"\\n\\n\")\n",
    "    except AttributeError as e:\n",
    "        print(\"AttributeError error occured when parsing single doc:\", e)\n",
    "        print(\"original doc: ------------\\n \", row)\n",
    "        print(\"\\n\\n\")"
   ]
  },
  {
   "cell_type": "code",
   "execution_count": 0,
   "metadata": {
    "application/vnd.databricks.v1+cell": {
     "cellMetadata": {
      "byteLimit": 2048000,
      "rowLimit": 10000
     },
     "inputWidgets": {},
     "nuid": "8327a56f-28eb-4d5b-868e-9b8fcffe0189",
     "showTitle": false,
     "tableResultSettingsMap": {},
     "title": ""
    }
   },
   "outputs": [],
   "source": [
    "raw_json.keys()"
   ]
  },
  {
   "cell_type": "code",
   "execution_count": 0,
   "metadata": {
    "application/vnd.databricks.v1+cell": {
     "cellMetadata": {
      "byteLimit": 2048000,
      "rowLimit": 10000
     },
     "inputWidgets": {},
     "nuid": "75da0799-d298-425c-a216-a63e5ec23d76",
     "showTitle": false,
     "tableResultSettingsMap": {},
     "title": ""
    }
   },
   "outputs": [],
   "source": [
    "data = raw_json.get(\"payload\").get(\"originalHomes\").get(\"homes\")[0]"
   ]
  },
  {
   "cell_type": "code",
   "execution_count": 0,
   "metadata": {
    "application/vnd.databricks.v1+cell": {
     "cellMetadata": {
      "byteLimit": 2048000,
      "rowLimit": 10000
     },
     "inputWidgets": {},
     "nuid": "387640ca-23e6-4497-9ce4-1b2830e75810",
     "showTitle": false,
     "tableResultSettingsMap": {},
     "title": ""
    }
   },
   "outputs": [],
   "source": [
    "data"
   ]
  },
  {
   "cell_type": "code",
   "execution_count": 0,
   "metadata": {
    "application/vnd.databricks.v1+cell": {
     "cellMetadata": {
      "byteLimit": 2048000,
      "rowLimit": 10000
     },
     "inputWidgets": {},
     "nuid": "c4d909dc-2bf9-4e32-8d6e-89e6ad575df3",
     "showTitle": false,
     "tableResultSettingsMap": {},
     "title": ""
    }
   },
   "outputs": [],
   "source": [
    "process(data)"
   ]
  },
  {
   "cell_type": "code",
   "execution_count": 0,
   "metadata": {
    "application/vnd.databricks.v1+cell": {
     "cellMetadata": {
      "byteLimit": 2048000,
      "rowLimit": 10000
     },
     "inputWidgets": {},
     "nuid": "0bea4aef-2119-4651-9336-ddc4461d1abb",
     "showTitle": false,
     "tableResultSettingsMap": {},
     "title": ""
    }
   },
   "outputs": [],
   "source": [
    "# okay we need to convert all those things to pyspark codes"
   ]
  },
  {
   "cell_type": "code",
   "execution_count": 0,
   "metadata": {
    "application/vnd.databricks.v1+cell": {
     "cellMetadata": {
      "byteLimit": 2048000,
      "rowLimit": 10000
     },
     "inputWidgets": {},
     "nuid": "45437553-2caa-493e-a221-59126cd66c63",
     "showTitle": false,
     "tableResultSettingsMap": {},
     "title": ""
    }
   },
   "outputs": [],
   "source": [
    "import json\n",
    "from pyspark.sql.functions import udf\n",
    "from pyspark.sql.types import MapType, StringType\n",
    "\n",
    "def parse_json_text(text: str):\n",
    "    if text is None:\n",
    "        return None\n",
    "    json_text = text[4:]\n",
    "    try:\n",
    "        data = json.loads(json_text)\n",
    "    except Exception as e:\n",
    "        # You can log the error or skip\n",
    "        data = None\n",
    "    return data\n"
   ]
  },
  {
   "cell_type": "code",
   "execution_count": 0,
   "metadata": {
    "application/vnd.databricks.v1+cell": {
     "cellMetadata": {
      "byteLimit": 2048000,
      "rowLimit": 10000
     },
     "inputWidgets": {},
     "nuid": "d54384fb-6a47-457a-a618-77f9c011ff2b",
     "showTitle": false,
     "tableResultSettingsMap": {},
     "title": ""
    }
   },
   "outputs": [],
   "source": [
    "parse_json_udf = udf(parse_json_text, MapType(StringType(), StringType()))"
   ]
  },
  {
   "cell_type": "code",
   "execution_count": 0,
   "metadata": {
    "application/vnd.databricks.v1+cell": {
     "cellMetadata": {
      "byteLimit": 2048000,
      "rowLimit": 10000
     },
     "inputWidgets": {},
     "nuid": "1694634f-5651-4ac0-9d0c-ea190225d5cc",
     "showTitle": false,
     "tableResultSettingsMap": {},
     "title": ""
    }
   },
   "outputs": [],
   "source": [
    "df = spark.sql(\"select raw_json from mycatalog.hp_prd_data.raw_data limit 1\")"
   ]
  },
  {
   "cell_type": "code",
   "execution_count": 0,
   "metadata": {
    "application/vnd.databricks.v1+cell": {
     "cellMetadata": {
      "byteLimit": 2048000,
      "rowLimit": 10000
     },
     "inputWidgets": {},
     "nuid": "ee59f19a-f26c-4707-a8af-0444704262bd",
     "showTitle": false,
     "tableResultSettingsMap": {},
     "title": ""
    }
   },
   "outputs": [],
   "source": [
    "df.show()"
   ]
  },
  {
   "cell_type": "code",
   "execution_count": 0,
   "metadata": {
    "application/vnd.databricks.v1+cell": {
     "cellMetadata": {
      "byteLimit": 2048000,
      "rowLimit": 10000
     },
     "inputWidgets": {},
     "nuid": "e285487a-4130-4f80-b103-58b829e67e08",
     "showTitle": false,
     "tableResultSettingsMap": {},
     "title": ""
    }
   },
   "outputs": [],
   "source": [
    "from pyspark.sql.functions import col"
   ]
  },
  {
   "cell_type": "code",
   "execution_count": 0,
   "metadata": {
    "application/vnd.databricks.v1+cell": {
     "cellMetadata": {
      "byteLimit": 2048000,
      "rowLimit": 10000
     },
     "inputWidgets": {},
     "nuid": "39d99e57-b978-4340-a068-193c7710dd63",
     "showTitle": false,
     "tableResultSettingsMap": {},
     "title": ""
    }
   },
   "outputs": [],
   "source": [
    "df_exp = df.withColumn(\"Json_file\", parse_json_text(col(\"raw_json\")))"
   ]
  },
  {
   "cell_type": "code",
   "execution_count": 0,
   "metadata": {
    "application/vnd.databricks.v1+cell": {
     "cellMetadata": {
      "byteLimit": 2048000,
      "rowLimit": 10000
     },
     "inputWidgets": {},
     "nuid": "b03401a6-b854-4fb1-8740-cf44cf21dad7",
     "showTitle": false,
     "tableResultSettingsMap": {},
     "title": ""
    }
   },
   "outputs": [],
   "source": [
    "# Testing GPT code"
   ]
  },
  {
   "cell_type": "code",
   "execution_count": 0,
   "metadata": {
    "application/vnd.databricks.v1+cell": {
     "cellMetadata": {
      "byteLimit": 2048000,
      "rowLimit": 10000
     },
     "inputWidgets": {},
     "nuid": "48e9c549-2524-4f20-bc7d-b41c3126ccd3",
     "showTitle": false,
     "tableResultSettingsMap": {},
     "title": ""
    }
   },
   "outputs": [],
   "source": [
    "df = spark.sql(\"SELECT raw_json FROM mycatalog.hp_prd_data.raw_data\")"
   ]
  },
  {
   "cell_type": "code",
   "execution_count": 0,
   "metadata": {
    "application/vnd.databricks.v1+cell": {
     "cellMetadata": {
      "byteLimit": 2048000,
      "rowLimit": 10000
     },
     "inputWidgets": {},
     "nuid": "a44cfda5-3d6e-4ec0-a408-58db061e8e2a",
     "showTitle": false,
     "tableResultSettingsMap": {},
     "title": ""
    }
   },
   "outputs": [],
   "source": [
    "import json\n",
    "from pyspark.sql.functions import udf\n",
    "from pyspark.sql.types import *\n",
    "# Define schema of one flattened home\n",
    "home_schema = StructType([\n",
    "    StructField(\"mls#\", StringType()),\n",
    "    StructField(\"mls_status\", StringType()),\n",
    "    StructField(\"house_price\", LongType()),\n",
    "    StructField(\"hoa\", StringType()),                  # None or str\n",
    "    StructField(\"sqft\", StringType()),                 # Can be None or float\n",
    "    StructField(\"price_per_sqft\", StringType()),\n",
    "    StructField(\"lot_size\", StringType()),\n",
    "    StructField(\"beds\",StringType()),\n",
    "    StructField(\"baths\", StringType()),\n",
    "    StructField(\"fullbaths\", StringType()),\n",
    "    StructField(\"partialBaths\", StringType()),\n",
    "    StructField(\"location\", StringType()),\n",
    "    StructField(\"stories\", StringType()),              # stories is 1.0, so use DoubleType\n",
    "    StructField(\"latitude\", DoubleType()),\n",
    "    StructField(\"longitude\", DoubleType()),\n",
    "    StructField(\"streetLine\", StringType()),\n",
    "    StructField(\"city\", StringType()),\n",
    "    StructField(\"state\", StringType()),\n",
    "    StructField(\"zip\", StringType()),\n",
    "    StructField(\"postalCode\", StringType()),\n",
    "    StructField(\"countryCode\", StringType()),\n",
    "    StructField(\"searchStatus\", IntegerType()),        # 1\n",
    "    StructField(\"propertyType\", IntegerType()),        # 6\n",
    "    StructField(\"uiPropertyType\", IntegerType()),      # 1\n",
    "    StructField(\"listingType\", IntegerType()),         # 1\n",
    "    StructField(\"propertyId\", LongType()),             # 38910260\n",
    "    StructField(\"listingId\", LongType()),              # 205114738\n",
    "    StructField(\"dataSourceId\", IntegerType()),\n",
    "    StructField(\"marketId\", IntegerType()),\n",
    "    StructField(\"yearBuilt\", IntegerType()),\n",
    "    StructField(\"openHouseStartFormatted\", StringType()),\n",
    "    StructField(\"openHouseEventName\", StringType()),\n",
    "    StructField(\"url\", StringType()),\n",
    "    StructField(\"isHot\", BooleanType()),\n",
    "    StructField(\"hasVirtualTour\", BooleanType()),\n",
    "    StructField(\"hasVideoTour\", BooleanType()),\n",
    "    StructField(\"has3DTour\", BooleanType()),\n",
    "    StructField(\"isActiveKeyListing\", BooleanType()),\n",
    "    StructField(\"isNewConstruction\", BooleanType()),\n",
    "    StructField(\"listingRemarks\", StringType()),\n",
    "    StructField(\"scanUrl\", StringType()),\n",
    "    StructField(\"posterFrameUrl\", StringType())\n",
    "])\n",
    "\n",
    "# Define UDF that returns an array of flattened homes\n",
    "def extract_listings(text):\n",
    "    results = []\n",
    "    try:\n",
    "        json_text = text[4:]\n",
    "        data = json.loads(json_text)\n",
    "        homes = data.get(\"payload\", {}).get(\"originalHomes\", {}).get(\"homes\", [])\n",
    "        \n",
    "        for row in homes:\n",
    "            try:\n",
    "                results.append({\n",
    "                    \"mls#\": row.get(\"mlsId\", {}).get(\"value\"),\n",
    "                    \"mls_status\": row.get(\"mlsStatus\"),\n",
    "                    \"house_price\": row.get(\"price\", {}).get(\"value\"),\n",
    "                    \"hoa\": row.get(\"hoa\", {}).get(\"value\") if \"hoa\" in row and \"value\" in row[\"hoa\"] else None,\n",
    "                    \"sqft\": row.get(\"sqFt\", {}).get(\"value\") if \"sqFt\" in row else None,  # FIXED\n",
    "                    \"price_per_sqft\": row.get(\"pricePerSqFt\", {}).get(\"value\"),\n",
    "                    \"lot_size\": row.get(\"lotSize\", {}).get(\"value\"),\n",
    "                    \"beds\": row.get(\"beds\"),\n",
    "                    \"baths\": row.get(\"baths\"),\n",
    "                    \"fullbaths\": row.get(\"fullbaths\"),\n",
    "                    \"partialBaths\": row.get(\"partialBaths\"),\n",
    "                    \"location\": row.get(\"location\", {}).get(\"value\"),\n",
    "                    \"stories\": row.get(\"stories\"),\n",
    "                    \"latitude\": row.get(\"latLong\", {}).get(\"value\", {}).get(\"latitude\"),\n",
    "                    \"longitude\": row.get(\"latLong\", {}).get(\"value\", {}).get(\"longitude\"),\n",
    "                    \"streetLine\": row.get(\"streetLine\", {}).get(\"value\"),\n",
    "                    \"city\": row.get(\"city\"),\n",
    "                    \"state\": row.get(\"state\"),\n",
    "                    \"zip\": row.get(\"zip\"),\n",
    "                    \"postalCode\": row.get(\"postalCode\", {}).get(\"value\"),\n",
    "                    \"countryCode\": row.get(\"countryCode\"),\n",
    "                    \"searchStatus\": row.get(\"searchStatus\"),\n",
    "                    \"propertyType\": row.get(\"propertyType\"),\n",
    "                    \"uiPropertyType\": row.get(\"uiPropertyType\"),\n",
    "                    \"listingType\": row.get(\"listingType\"),\n",
    "                    \"propertyId\": row.get(\"propertyId\"),\n",
    "                    \"listingId\": row.get(\"listingId\"),\n",
    "                    \"dataSourceId\": row.get(\"dataSourceId\"),\n",
    "                    \"marketId\": row.get(\"marketId\"),\n",
    "                    \"yearBuilt\": row.get(\"yearBuilt\", {}).get(\"value\"),\n",
    "                    \"openHouseStartFormatted\": row.get(\"openHouseStartFormatted\"),\n",
    "                    \"openHouseEventName\": row.get(\"openHouseEventName\"),\n",
    "                    \"url\": row.get(\"url\"),\n",
    "                    \"isHot\": row.get(\"isHot\"),\n",
    "                    \"hasVirtualTour\": row.get(\"hasVirtualTour\"),\n",
    "                    \"hasVideoTour\": row.get(\"hasVideoTour\"),\n",
    "                    \"has3DTour\": row.get(\"has3DTour\"),\n",
    "                    \"isActiveKeyListing\": row.get(\"isActiveKeyListing\"),\n",
    "                    \"isNewConstruction\": row.get(\"isNewConstruction\"),\n",
    "                    \"listingRemarks\": row.get(\"listingRemarks\"),\n",
    "                    \"scanUrl\": row.get(\"scanUrl\"),\n",
    "                    \"posterFrameUrl\": row.get(\"posterFrameUrl\")\n",
    "                })\n",
    "            except Exception as e:\n",
    "                print(\"we have an error \", e)\n",
    "                continue\n",
    "            print(\"PRICE BLOCK:\", row.get(\"price\"))    \n",
    "    except Exception as e:\n",
    "        pass\n",
    "    return results\n",
    "# Register as UDF\n",
    "extract_udf = udf(extract_listings, ArrayType(home_schema))\n"
   ]
  },
  {
   "cell_type": "code",
   "execution_count": 0,
   "metadata": {
    "application/vnd.databricks.v1+cell": {
     "cellMetadata": {
      "byteLimit": 2048000,
      "rowLimit": 10000
     },
     "inputWidgets": {},
     "nuid": "b0b3a565-02c1-43fe-87cb-3d87a3641644",
     "showTitle": false,
     "tableResultSettingsMap": {},
     "title": ""
    }
   },
   "outputs": [],
   "source": [
    "df_extracted = df.withColumn(\"homes\", extract_udf(\"raw_json\"))"
   ]
  },
  {
   "cell_type": "code",
   "execution_count": 0,
   "metadata": {
    "application/vnd.databricks.v1+cell": {
     "cellMetadata": {
      "byteLimit": 2048000,
      "rowLimit": 10000
     },
     "inputWidgets": {},
     "nuid": "e2dace1e-0d7d-497e-8d86-622e45ff6692",
     "showTitle": false,
     "tableResultSettingsMap": {},
     "title": ""
    }
   },
   "outputs": [],
   "source": [
    "df_final = df_extracted.selectExpr(\"explode(homes) as home\").select(\"home.*\")"
   ]
  },
  {
   "cell_type": "code",
   "execution_count": 0,
   "metadata": {
    "application/vnd.databricks.v1+cell": {
     "cellMetadata": {
      "byteLimit": 2048000,
      "implicitDf": true,
      "rowLimit": 10000
     },
     "inputWidgets": {},
     "nuid": "5b76c82f-33e2-4cfa-b3bf-1906d0b86c4e",
     "showTitle": false,
     "tableResultSettingsMap": {},
     "title": ""
    }
   },
   "outputs": [],
   "source": [
    "%sql\n",
    "drop table mycatalog.hp_prd_data.dev_parsed_data"
   ]
  },
  {
   "cell_type": "code",
   "execution_count": 0,
   "metadata": {
    "application/vnd.databricks.v1+cell": {
     "cellMetadata": {
      "byteLimit": 2048000,
      "rowLimit": 10000
     },
     "inputWidgets": {},
     "nuid": "46fd88a7-2e84-4adf-b878-00b3d72138b9",
     "showTitle": false,
     "tableResultSettingsMap": {},
     "title": ""
    }
   },
   "outputs": [],
   "source": [
    "df_final.write.mode(\"overwrite\").saveAsTable(\"mycatalog.hp_prd_data.dev_parsed_data\")"
   ]
  },
  {
   "cell_type": "code",
   "execution_count": 0,
   "metadata": {
    "application/vnd.databricks.v1+cell": {
     "cellMetadata": {
      "byteLimit": 2048000,
      "implicitDf": true,
      "rowLimit": 10000
     },
     "inputWidgets": {},
     "nuid": "9cfdd91f-fe16-4ce1-a494-8229bdeddf08",
     "showTitle": false,
     "tableResultSettingsMap": {},
     "title": ""
    }
   },
   "outputs": [],
   "source": [
    "%sql\n",
    "select * from mycatalog.hp_prd_data.dev_parsed_data limit 10"
   ]
  },
  {
   "cell_type": "code",
   "execution_count": 0,
   "metadata": {
    "application/vnd.databricks.v1+cell": {
     "cellMetadata": {
      "byteLimit": 2048000,
      "implicitDf": true,
      "rowLimit": 10000
     },
     "inputWidgets": {},
     "nuid": "e4175ab4-747f-4cba-a77c-e8b0ddced177",
     "showTitle": false,
     "tableResultSettingsMap": {},
     "title": ""
    }
   },
   "outputs": [],
   "source": [
    "%sql\n",
    "select * from mycatalog.hp_prd_data.dev_parsed_data where fullbaths is not null limit 10"
   ]
  },
  {
   "cell_type": "code",
   "execution_count": 0,
   "metadata": {
    "application/vnd.databricks.v1+cell": {
     "cellMetadata": {},
     "inputWidgets": {},
     "nuid": "0248a7f8-b650-4650-b22d-3ef53c095f12",
     "showTitle": false,
     "tableResultSettingsMap": {},
     "title": ""
    }
   },
   "outputs": [],
   "source": []
  }
 ],
 "metadata": {
  "application/vnd.databricks.v1+notebook": {
   "computePreferences": null,
   "dashboards": [],
   "environmentMetadata": {
    "base_environment": "",
    "environment_version": "3"
   },
   "inputWidgetPreferences": null,
   "language": "python",
   "notebookMetadata": {
    "mostRecentlyExecutedCommandWithImplicitDF": {
     "commandId": 7113426783316620,
     "dataframes": [
      "_sqldf"
     ]
    },
    "pythonIndentUnit": 4
   },
   "notebookName": "RawDataEDA",
   "widgets": {}
  },
  "language_info": {
   "name": "python"
  }
 },
 "nbformat": 4,
 "nbformat_minor": 0
}
