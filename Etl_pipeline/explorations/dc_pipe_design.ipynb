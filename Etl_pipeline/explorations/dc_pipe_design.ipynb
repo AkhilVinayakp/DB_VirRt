{
 "cells": [
  {
   "cell_type": "code",
   "execution_count": 0,
   "metadata": {
    "application/vnd.databricks.v1+cell": {
     "cellMetadata": {
      "byteLimit": 2048000,
      "implicitDf": true,
      "rowLimit": 10000
     },
     "inputWidgets": {},
     "nuid": "219ff848-4a47-418a-a0fd-86e7294d39d1",
     "showTitle": false,
     "tableResultSettingsMap": {},
     "title": ""
    }
   },
   "outputs": [],
   "source": [
    "%sql\n",
    "select * from mycatalog.hp_prd_data.nearby_parsed_data limit 10"
   ]
  },
  {
   "cell_type": "code",
   "execution_count": 0,
   "metadata": {
    "application/vnd.databricks.v1+cell": {
     "cellMetadata": {
      "byteLimit": 2048000,
      "implicitDf": true,
      "rowLimit": 10000
     },
     "inputWidgets": {},
     "nuid": "74809242-2448-466a-834b-12aa50a9f986",
     "showTitle": false,
     "tableResultSettingsMap": {},
     "title": ""
    }
   },
   "outputs": [],
   "source": [
    "%sql\n",
    "select \n",
    "distinct zip from mycatalog.hp_prd_data.nearby_parsed_data limit 10"
   ]
  },
  {
   "cell_type": "code",
   "execution_count": 0,
   "metadata": {
    "application/vnd.databricks.v1+cell": {
     "cellMetadata": {
      "byteLimit": 2048000,
      "implicitDf": true,
      "rowLimit": 10000
     },
     "inputWidgets": {},
     "nuid": "8c1e3e6e-bba8-4461-b0ce-45ae297f749a",
     "showTitle": false,
     "tableResultSettingsMap": {},
     "title": ""
    }
   },
   "outputs": [],
   "source": [
    "%sql\n",
    "select * from mycatalog.hp_prd_data.uszips where zip == \"77713\""
   ]
  },
  {
   "cell_type": "code",
   "execution_count": 0,
   "metadata": {
    "application/vnd.databricks.v1+cell": {
     "cellMetadata": {
      "byteLimit": 2048000,
      "implicitDf": true,
      "rowLimit": 10000
     },
     "inputWidgets": {},
     "nuid": "2bb070f4-f97c-48dd-9d81-556f0415ef90",
     "showTitle": false,
     "tableResultSettingsMap": {},
     "title": ""
    }
   },
   "outputs": [],
   "source": [
    "%sql\n",
    "select \n",
    "* from mycatalog.hp_prd_data.nearby_parsed_data where zip == \"77713\""
   ]
  },
  {
   "cell_type": "code",
   "execution_count": 0,
   "metadata": {
    "application/vnd.databricks.v1+cell": {
     "cellMetadata": {
      "byteLimit": 2048000,
      "implicitDf": true,
      "rowLimit": 10000
     },
     "inputWidgets": {},
     "nuid": "4ba8e10d-657b-4720-b947-bac90ad12116",
     "showTitle": false,
     "tableResultSettingsMap": {},
     "title": ""
    }
   },
   "outputs": [],
   "source": [
    "%sql\n",
    "create or replace view mycatalog.hp_prd_data.dev_deduplicated\n",
    "as\n",
    "with parsed_data as (\n",
    "select\n",
    "  `mls#` as house_mls,\n",
    "  mls_status,\n",
    "  house_price,\n",
    "  coalesce(hoa,'0') as hoa,\n",
    "  sqft,\n",
    "  price_per_sqft,\n",
    "  lot_size,\n",
    "  beds,\n",
    "  baths,\n",
    "  fullbaths,\n",
    "  partialBaths,\n",
    "  location,\n",
    "  stories,\n",
    "  latitude,\n",
    "  longitude,\n",
    "  streetLine,\n",
    "  city,\n",
    "  state,\n",
    "  zip,\n",
    "  propertyId,\n",
    "  yearBuilt,\n",
    "  EXTRACT(YEAR FROM CURRENT_DATE) - yearBuilt AS age,\n",
    "  url,\n",
    "  isHot,\n",
    "  hasVirtualTour,\n",
    "  hasVideoTour,\n",
    "  has3DTour,\n",
    "  isNewConstruction,\n",
    "  listingRemarks,\n",
    "  row_number() over(partition by propertyId order by ingestion_timestamp desc) as row_num\n",
    "from mycatalog.hp_prd_data.nearby_parsed_data\n",
    "where TRY_CAST(zip AS NUMERIC) IS NOT NULL\n",
    ")\n",
    "select \n",
    "  house_mls,\n",
    "  mls_status,\n",
    "  house_price,\n",
    "  hoa,\n",
    "  sqft,\n",
    "  price_per_sqft,\n",
    "  lot_size,\n",
    "  beds,\n",
    "  baths,\n",
    "  fullbaths,\n",
    "  partialBaths,\n",
    "  location,\n",
    "  stories,\n",
    "  latitude,\n",
    "  longitude,\n",
    "  streetLine,\n",
    "  city,\n",
    "  state,\n",
    "  zip,\n",
    "  propertyId,\n",
    "  yearBuilt,\n",
    "  age,\n",
    "  url,\n",
    "  isHot,\n",
    "  hasVirtualTour,\n",
    "  hasVideoTour,\n",
    "  has3DTour,\n",
    "  isNewConstruction,\n",
    "  listingRemarks\n",
    "from parsed_data where row_num = 1\n",
    "\n"
   ]
  },
  {
   "cell_type": "code",
   "execution_count": 0,
   "metadata": {
    "application/vnd.databricks.v1+cell": {
     "cellMetadata": {
      "byteLimit": 2048000,
      "implicitDf": true,
      "rowLimit": 10000
     },
     "inputWidgets": {},
     "nuid": "8bd889ce-bc45-4588-adfc-fcb5a5e70632",
     "showTitle": false,
     "tableResultSettingsMap": {
      "0": {
       "dataGridStateBlob": "{\"version\":1,\"tableState\":{\"columnPinning\":{\"left\":[\"#row_number#\"],\"right\":[]},\"columnSizing\":{},\"columnVisibility\":{}},\"settings\":{\"columns\":{}},\"syncTimestamp\":1754634801999}",
       "filterBlob": null,
       "queryPlanFiltersBlob": null,
       "tableResultIndex": 0
      }
     },
     "title": ""
    }
   },
   "outputs": [],
   "source": [
    "%sql\n",
    "select *  from mycatalog.hp_prd_data.dev_deduplicated limit 20"
   ]
  },
  {
   "cell_type": "code",
   "execution_count": 0,
   "metadata": {
    "application/vnd.databricks.v1+cell": {
     "cellMetadata": {
      "byteLimit": 2048000,
      "implicitDf": true,
      "rowLimit": 10000
     },
     "inputWidgets": {},
     "nuid": "35ed7fe0-4d7a-4105-99e7-a882257a0c4b",
     "showTitle": false,
     "tableResultSettingsMap": {},
     "title": ""
    }
   },
   "outputs": [],
   "source": [
    "%sql\n",
    "select\n",
    "count(*) as row_count,\n",
    "count(DISTINCT zip) AS TOTAL_ZIP_CODES,\n",
    "COUNT(DISTINCT propertyId) AS TOTAL_PROPERTY,\n",
    "count(DISTINCT house_mls) as mls_count\n",
    "from mycatalog.hp_prd_data.dev_deduplicated"
   ]
  },
  {
   "cell_type": "code",
   "execution_count": 0,
   "metadata": {
    "application/vnd.databricks.v1+cell": {
     "cellMetadata": {
      "byteLimit": 2048000,
      "implicitDf": true,
      "rowLimit": 10000
     },
     "inputWidgets": {},
     "nuid": "d43a2b76-21a6-497a-aab9-09c34a852424",
     "showTitle": false,
     "tableResultSettingsMap": {},
     "title": ""
    }
   },
   "outputs": [],
   "source": [
    "%sql\n",
    "select\n",
    "zip,\n",
    "count(*) as row_count\n",
    "from mycatalog.hp_prd_data.dev_deduplicated\n",
    "group by zip\n",
    "order by row_count asc"
   ]
  },
  {
   "cell_type": "code",
   "execution_count": 0,
   "metadata": {
    "application/vnd.databricks.v1+cell": {
     "cellMetadata": {
      "byteLimit": 2048000,
      "rowLimit": 10000
     },
     "inputWidgets": {},
     "nuid": "c770d9f2-865b-4791-8435-b95721861a7e",
     "showTitle": false,
     "tableResultSettingsMap": {},
     "title": ""
    }
   },
   "outputs": [],
   "source": [
    "# now left join this with zipcode data"
   ]
  },
  {
   "cell_type": "code",
   "execution_count": 0,
   "metadata": {
    "application/vnd.databricks.v1+cell": {
     "cellMetadata": {
      "byteLimit": 2048000,
      "implicitDf": true,
      "rowLimit": 10000
     },
     "inputWidgets": {},
     "nuid": "08a2fb27-7d1e-4ab8-9e70-23e2cd22e37a",
     "showTitle": false,
     "tableResultSettingsMap": {},
     "title": ""
    }
   },
   "outputs": [],
   "source": [
    "%sql\n",
    "select * from mycatalog.hp_prd_data.uszips where zip == \"77713\""
   ]
  },
  {
   "cell_type": "code",
   "execution_count": 0,
   "metadata": {
    "application/vnd.databricks.v1+cell": {
     "cellMetadata": {
      "byteLimit": 2048000,
      "implicitDf": true,
      "rowLimit": 10000
     },
     "inputWidgets": {},
     "nuid": "cb09147f-e56c-4d64-929d-c1801efc6483",
     "showTitle": false,
     "tableResultSettingsMap": {},
     "title": ""
    }
   },
   "outputs": [],
   "source": [
    "%sql\n",
    "create or replace view  mycatalog.hp_prd_data.dev_fp_parsed_data as\n",
    "with location_data as (\n",
    "  select \n",
    "   zip,\n",
    "   lat as zip_lat,\n",
    "   lng as zip_lng,\n",
    "   population as zip_population,\n",
    "   density as zip_density\n",
    "  from mycatalog.hp_prd_data.uszips\n",
    ")\n",
    "select\n",
    " parsed_data.*,\n",
    " location_data.zip_lat,\n",
    " location_data.zip_lng,\n",
    " location_data.zip_population,\n",
    " location_data.zip_density\n",
    "from mycatalog.hp_prd_data.dev_deduplicated parsed_data\n",
    "inner join location_data on parsed_data.zip = location_data.zip"
   ]
  },
  {
   "cell_type": "code",
   "execution_count": 0,
   "metadata": {
    "application/vnd.databricks.v1+cell": {
     "cellMetadata": {
      "byteLimit": 2048000,
      "implicitDf": true,
      "rowLimit": 10000
     },
     "inputWidgets": {},
     "nuid": "8d8a0d8c-602e-4e26-91ce-c98f9a5140de",
     "showTitle": false,
     "tableResultSettingsMap": {},
     "title": ""
    }
   },
   "outputs": [],
   "source": [
    "%sql\n",
    "select\n",
    "count(*) as row_count,\n",
    "count(DISTINCT zip) AS TOTAL_ZIP_CODES,\n",
    "COUNT(DISTINCT propertyId) AS TOTAL_PROPERTY,\n",
    "count(DISTINCT house_mls) as mls_count\n",
    "from mycatalog.hp_prd_data.dev_deduplicated"
   ]
  },
  {
   "cell_type": "code",
   "execution_count": 0,
   "metadata": {
    "application/vnd.databricks.v1+cell": {
     "cellMetadata": {
      "byteLimit": 2048000,
      "implicitDf": true,
      "rowLimit": 10000
     },
     "inputWidgets": {},
     "nuid": "81535db8-54f5-4e37-a19d-f6babd84de4d",
     "showTitle": false,
     "tableResultSettingsMap": {},
     "title": ""
    }
   },
   "outputs": [],
   "source": [
    "%sql\n",
    "select\n",
    "count(*) as row_count,\n",
    "count(DISTINCT zip) AS TOTAL_ZIP_CODES,\n",
    "COUNT(DISTINCT propertyId) AS TOTAL_PROPERTY,\n",
    "count(DISTINCT house_mls) as mls_count\n",
    "from mycatalog.hp_prd_data.dev_fp_parsed_data"
   ]
  },
  {
   "cell_type": "code",
   "execution_count": 0,
   "metadata": {
    "application/vnd.databricks.v1+cell": {
     "cellMetadata": {
      "byteLimit": 2048000,
      "implicitDf": true,
      "rowLimit": 10000
     },
     "inputWidgets": {},
     "nuid": "62b56bb8-5819-474e-84db-ba6ffc8ebcff",
     "showTitle": false,
     "tableResultSettingsMap": {},
     "title": ""
    }
   },
   "outputs": [],
   "source": [
    "%sql\n",
    "select * from mycatalog.hp_prd_data.dev_fp_parsed_data limit 10"
   ]
  },
  {
   "cell_type": "code",
   "execution_count": 0,
   "metadata": {
    "application/vnd.databricks.v1+cell": {
     "cellMetadata": {
      "byteLimit": 2048000,
      "implicitDf": true,
      "rowLimit": 10000
     },
     "inputWidgets": {},
     "nuid": "c47a42a9-7728-40cc-b960-476f0526178b",
     "showTitle": false,
     "tableResultSettingsMap": {},
     "title": ""
    }
   },
   "outputs": [],
   "source": [
    "%sql\n",
    "create or replace table  mycatalog.hp_prd_data.dev_fp_parsed_data_table as\n",
    "with location_data as (\n",
    "  select \n",
    "   zip,\n",
    "   lat as zip_lat,\n",
    "   lng as zip_lng,\n",
    "   population as zip_population,\n",
    "   density as zip_density\n",
    "  from mycatalog.hp_prd_data.uszips\n",
    ")\n",
    "select\n",
    " parsed_data.*,\n",
    " location_data.zip_lat,\n",
    " location_data.zip_lng,\n",
    " location_data.zip_population,\n",
    " location_data.zip_density\n",
    "from mycatalog.hp_prd_data.dev_deduplicated parsed_data\n",
    "inner join location_data on parsed_data.zip = location_data.zip"
   ]
  },
  {
   "cell_type": "code",
   "execution_count": 0,
   "metadata": {
    "application/vnd.databricks.v1+cell": {
     "cellMetadata": {
      "byteLimit": 2048000,
      "implicitDf": true,
      "rowLimit": 10000
     },
     "inputWidgets": {},
     "nuid": "2b21e68c-abbd-438b-9fba-b8210b337ddf",
     "showTitle": false,
     "tableResultSettingsMap": {},
     "title": ""
    }
   },
   "outputs": [],
   "source": [
    "%sql\n",
    "select * from  mycatalog.hp_prd_data.dev_fp_parsed_data_table  limit 10"
   ]
  },
  {
   "cell_type": "code",
   "execution_count": 0,
   "metadata": {
    "application/vnd.databricks.v1+cell": {
     "cellMetadata": {
      "byteLimit": 2048000,
      "rowLimit": 10000
     },
     "inputWidgets": {},
     "nuid": "f8265320-267b-4cac-be29-731147def588",
     "showTitle": false,
     "tableResultSettingsMap": {},
     "title": ""
    }
   },
   "outputs": [],
   "source": [
    "# creating a table by extracting the top features of the home"
   ]
  },
  {
   "cell_type": "code",
   "execution_count": 0,
   "metadata": {
    "application/vnd.databricks.v1+cell": {
     "cellMetadata": {
      "byteLimit": 2048000,
      "implicitDf": true,
      "rowLimit": 10000
     },
     "inputWidgets": {},
     "nuid": "be0681d4-31ec-491d-9eb6-d0e326a9a521",
     "showTitle": false,
     "tableResultSettingsMap": {},
     "title": ""
    }
   },
   "outputs": [],
   "source": [
    "%sql\n",
    "create or replace table mycatalog.hp_prd_data.dev_fp_home_features as\n",
    "SELECT\n",
    "  propertyId,\n",
    "  listingRemarks,   -- Placeholder for the input column\n",
    "  ai_query(\n",
    "    'databricks-gemma-3-12b',\n",
    "    CONCAT(\"Extract the top 4 key features from the home description below as a comma-separated list. example\n",
    "    Input: Very nice home with Spacious floor plan, Multiple living areas, Desirable location, Fenced and gated property. Output should be: Spacious floor plan, Multiple living areas, Desirable location, Fenced and gated property\", listingRemarks)    -- Placeholder for the prompt and input\n",
    "  ) AS top_features  -- Placeholder for the output column\n",
    "FROM  mycatalog.hp_prd_data.dev_fp_parsed_data_table  -- Placeholder for the table name\n",
    "\n"
   ]
  },
  {
   "cell_type": "code",
   "execution_count": 0,
   "metadata": {
    "application/vnd.databricks.v1+cell": {
     "cellMetadata": {
      "byteLimit": 2048000,
      "implicitDf": true,
      "rowLimit": 10000
     },
     "inputWidgets": {},
     "nuid": "8957bea2-b146-4a89-ad7c-5d37a5eaebe8",
     "showTitle": false,
     "tableResultSettingsMap": {},
     "title": ""
    }
   },
   "outputs": [],
   "source": [
    "%sql\n",
    "select * from mycatalog.hp_prd_data.dev_fp_home_features limit 20"
   ]
  },
  {
   "cell_type": "code",
   "execution_count": 0,
   "metadata": {
    "application/vnd.databricks.v1+cell": {
     "cellMetadata": {},
     "inputWidgets": {},
     "nuid": "ad711883-52fa-4611-bacd-906cbbe96a24",
     "showTitle": false,
     "tableResultSettingsMap": {},
     "title": ""
    }
   },
   "outputs": [],
   "source": []
  }
 ],
 "metadata": {
  "application/vnd.databricks.v1+notebook": {
   "computePreferences": {
    "hardware": {
     "accelerator": null,
     "gpuPoolId": null,
     "memory": null
    }
   },
   "dashboards": [],
   "environmentMetadata": {
    "base_environment": "",
    "environment_version": "2"
   },
   "inputWidgetPreferences": null,
   "language": "python",
   "notebookMetadata": {
    "mostRecentlyExecutedCommandWithImplicitDF": {
     "commandId": 6715071852290917,
     "dataframes": [
      "_sqldf"
     ]
    },
    "pythonIndentUnit": 4
   },
   "notebookName": "dc_pipe_design",
   "widgets": {}
  },
  "language_info": {
   "name": "python"
  }
 },
 "nbformat": 4,
 "nbformat_minor": 0
}
