{
 "cells": [
  {
   "cell_type": "code",
   "execution_count": 0,
   "metadata": {
    "application/vnd.databricks.v1+cell": {
     "cellMetadata": {
      "byteLimit": 2048000,
      "implicitDf": true,
      "rowLimit": 10000
     },
     "inputWidgets": {},
     "nuid": "3674c250-03ee-4370-93ea-cd3c51b9b91e",
     "showTitle": false,
     "tableResultSettingsMap": {},
     "title": ""
    }
   },
   "outputs": [],
   "source": [
    "%sql\n",
    "select * from mycatalog.hp_prd_data.fp_home_features limit 10"
   ]
  },
  {
   "cell_type": "code",
   "execution_count": 0,
   "metadata": {
    "application/vnd.databricks.v1+cell": {
     "cellMetadata": {
      "byteLimit": 2048000,
      "implicitDf": true,
      "rowLimit": 10000
     },
     "inputWidgets": {},
     "nuid": "e3e00d04-e1c9-418d-a53f-f29ab607449c",
     "showTitle": false,
     "tableResultSettingsMap": {},
     "title": ""
    }
   },
   "outputs": [],
   "source": [
    "%sql\n",
    "select * from mycatalog.hp_prd_data.fp_parsed_data limit 10"
   ]
  },
  {
   "cell_type": "code",
   "execution_count": 0,
   "metadata": {
    "application/vnd.databricks.v1+cell": {
     "cellMetadata": {
      "byteLimit": 2048000,
      "implicitDf": true,
      "rowLimit": 10000
     },
     "inputWidgets": {},
     "nuid": "3cf26729-71f4-4c24-a3a3-0c93fb5938cb",
     "showTitle": false,
     "tableResultSettingsMap": {},
     "title": ""
    }
   },
   "outputs": [],
   "source": [
    "%sql\n",
    "select \n",
    "fp_parsed.*,\n",
    "fp_hm_feat.top_features\n",
    "from mycatalog.hp_prd_data.fp_parsed_data fp_parsed\n",
    "inner join mycatalog.hp_prd_data.fp_home_features fp_hm_feat\n",
    "on fp_parsed.propertyId = fp_hm_feat.propertyId\n",
    "limit 10"
   ]
  },
  {
   "cell_type": "code",
   "execution_count": 0,
   "metadata": {
    "application/vnd.databricks.v1+cell": {
     "cellMetadata": {
      "byteLimit": 2048000,
      "rowLimit": 10000
     },
     "inputWidgets": {},
     "nuid": "246add91-ac62-4c59-bf7f-95aaaf6976f9",
     "showTitle": false,
     "tableResultSettingsMap": {},
     "title": ""
    }
   },
   "outputs": [],
   "source": [
    "_sqldf.columns"
   ]
  },
  {
   "cell_type": "code",
   "execution_count": 0,
   "metadata": {
    "application/vnd.databricks.v1+cell": {
     "cellMetadata": {
      "byteLimit": 2048000,
      "rowLimit": 10000
     },
     "inputWidgets": {},
     "nuid": "2969c79f-17c5-42d8-828c-318bccba9fd8",
     "showTitle": false,
     "tableResultSettingsMap": {},
     "title": ""
    }
   },
   "outputs": [],
   "source": [
    "from pyspark.sql.functions import udf\n",
    "from pyspark.sql.types import StringType\n",
    "\n",
    "def create_template(row):\n",
    "    return (\n",
    "        f\"Property Type: {row.propertyType}. Located in {row.location}, {row.city}, {row.state}, {row.countryCode}, \"\n",
    "        f\"ZIP {row.postalCode}. Built in {row.yearBuilt}, approximately {row.sqft} sqft \"\n",
    "        f\"on a {row.lot_size} sqft lot with {row.beds} bedrooms and {row.baths} bathrooms \"\n",
    "        f\"({row.fullbaths} full, {row.partialBaths} partial). Listed price is ${row.house_price}. \"\n",
    "        f\"Stories: {row.stories}. Additional Features: {row.top_features}. \"\n",
    "        f\"Neighborhood population: {row.zip_population}, density: {row.zip_density}. \"\n",
    "    )\n",
    "\n",
    "template_udf = udf(create_template, StringType())\n",
    "\n"
   ]
  },
  {
   "cell_type": "code",
   "execution_count": 0,
   "metadata": {
    "application/vnd.databricks.v1+cell": {
     "cellMetadata": {
      "byteLimit": 2048000,
      "rowLimit": 10000
     },
     "inputWidgets": {},
     "nuid": "73e6c8e3-cb90-4bff-918b-b906c359fab5",
     "showTitle": false,
     "tableResultSettingsMap": {},
     "title": ""
    }
   },
   "outputs": [],
   "source": [
    "df = spark.sql(\"\"\"\n",
    "            select \n",
    "            fp_parsed.*,\n",
    "            fp_hm_feat.top_features\n",
    "            from mycatalog.hp_prd_data.fp_parsed_data fp_parsed\n",
    "            inner join mycatalog.hp_prd_data.fp_home_features fp_hm_feat\n",
    "            on fp_parsed.propertyId = fp_hm_feat.propertyId\n",
    "\"\"\")"
   ]
  },
  {
   "cell_type": "code",
   "execution_count": 0,
   "metadata": {
    "application/vnd.databricks.v1+cell": {
     "cellMetadata": {
      "byteLimit": 2048000,
      "rowLimit": 10000
     },
     "inputWidgets": {},
     "nuid": "63c0bdda-0dae-403c-ab56-bcd608136288",
     "showTitle": false,
     "tableResultSettingsMap": {},
     "title": ""
    }
   },
   "outputs": [],
   "source": [
    "df.count()"
   ]
  },
  {
   "cell_type": "code",
   "execution_count": 0,
   "metadata": {
    "application/vnd.databricks.v1+cell": {
     "cellMetadata": {
      "byteLimit": 2048000,
      "rowLimit": 10000
     },
     "inputWidgets": {},
     "nuid": "f2547665-6d92-4dc2-a331-1189179de6c7",
     "showTitle": false,
     "tableResultSettingsMap": {},
     "title": ""
    }
   },
   "outputs": [],
   "source": [
    "df.limit(4).toPandas()"
   ]
  },
  {
   "cell_type": "code",
   "execution_count": 0,
   "metadata": {
    "application/vnd.databricks.v1+cell": {
     "cellMetadata": {
      "byteLimit": 2048000,
      "rowLimit": 10000
     },
     "inputWidgets": {},
     "nuid": "7371a093-5509-458f-8e25-3d89b5f613b8",
     "showTitle": false,
     "tableResultSettingsMap": {},
     "title": ""
    }
   },
   "outputs": [],
   "source": [
    "# Create a single column 'text_for_embedding'\n",
    "columns_needed = [\n",
    " 'propertyType','location','city','state','countryCode','postalCode',\n",
    " 'yearBuilt','sqft','lot_size','beds','baths','fullbaths','partialBaths',\n",
    " 'house_price','stories','top_features','zip_population','zip_density'\n",
    "]\n",
    "\n",
    "df_text = df.select(*columns_needed)\n",
    "df_text = df_text.withColumn(\"embedding_text\", template_udf(*columns_needed))\n"
   ]
  },
  {
   "cell_type": "code",
   "execution_count": 0,
   "metadata": {
    "application/vnd.databricks.v1+cell": {
     "cellMetadata": {
      "byteLimit": 2048000,
      "rowLimit": 10000
     },
     "inputWidgets": {},
     "nuid": "9de76ca3-2394-4c9c-b7cf-5bc76fea47da",
     "showTitle": false,
     "tableResultSettingsMap": {},
     "title": ""
    }
   },
   "outputs": [],
   "source": [
    "df.select(*columns_needed).limit(4).toPandas()"
   ]
  },
  {
   "cell_type": "code",
   "execution_count": 0,
   "metadata": {
    "application/vnd.databricks.v1+cell": {
     "cellMetadata": {
      "byteLimit": 2048000,
      "rowLimit": 10000
     },
     "inputWidgets": {},
     "nuid": "2af2c9fb-3666-4f82-8d14-66976efed864",
     "showTitle": false,
     "tableResultSettingsMap": {},
     "title": ""
    }
   },
   "outputs": [],
   "source": [
    "df_text.printSchema()"
   ]
  },
  {
   "cell_type": "code",
   "execution_count": 0,
   "metadata": {
    "application/vnd.databricks.v1+cell": {
     "cellMetadata": {
      "byteLimit": 2048000,
      "rowLimit": 10000
     },
     "inputWidgets": {},
     "nuid": "275191b0-4bc7-4ca0-9f40-ca1ab6c029fc",
     "showTitle": false,
     "tableResultSettingsMap": {},
     "title": ""
    }
   },
   "outputs": [],
   "source": [
    "df_text.show(5, truncate=False)"
   ]
  },
  {
   "cell_type": "code",
   "execution_count": 0,
   "metadata": {
    "application/vnd.databricks.v1+cell": {
     "cellMetadata": {
      "byteLimit": 2048000,
      "rowLimit": 10000
     },
     "inputWidgets": {},
     "nuid": "644b3d06-fa6d-40c2-9159-ad35488603ec",
     "showTitle": false,
     "tableResultSettingsMap": {},
     "title": ""
    }
   },
   "outputs": [],
   "source": [
    "from pyspark.sql.functions import udf, col, when, coalesce, lit\n",
    "from pyspark.sql.types import StringType, Row\n",
    "\n",
    "def create_template(propertyType, location, city, state, countryCode, postalCode,\n",
    "                   yearBuilt, sqft, lot_size, beds, baths, fullbaths, partialBaths,\n",
    "                   house_price, stories, top_features, zip_population, zip_density):\n",
    "    \"\"\"\n",
    "    Create a template string for property data with null handling\n",
    "    \"\"\"\n",
    "    # Helper function to handle null values\n",
    "    def safe_str(value, default=\"N/A\"):\n",
    "        return str(value) if value is not None else default\n",
    "    \n",
    "    return (\n",
    "        f\"Property Type: {safe_str(propertyType)}. \"\n",
    "        f\"Located in {safe_str(location)}, {safe_str(city)}, {safe_str(state)}, {safe_str(countryCode)}, \"\n",
    "        f\"ZIP {safe_str(postalCode)}. \"\n",
    "        f\"Built in {safe_str(yearBuilt)}, approximately {safe_str(sqft)} sqft \"\n",
    "        f\"on a {safe_str(lot_size)} sqft lot with {safe_str(beds)} bedrooms and {safe_str(baths)} bathrooms \"\n",
    "        f\"({safe_str(fullbaths)} full, {safe_str(partialBaths)} partial). \"\n",
    "        f\"Listed price is ${safe_str(house_price)}. \"\n",
    "        f\"Stories: {safe_str(stories)}. \"\n",
    "        f\"Additional Features: {safe_str(top_features)}. \"\n",
    "        f\"Neighborhood population: {safe_str(zip_population)}, density: {safe_str(zip_density)}.\"\n",
    "    )\n",
    "\n",
    "# Register UDF with proper parameter mapping\n",
    "template_udf = udf(create_template, StringType())\n",
    "\n",
    "# Load data with join\n",
    "df = spark.sql(\"\"\"\n",
    "    SELECT\n",
    "        fp_parsed.*,\n",
    "        fp_hm_feat.top_features\n",
    "    FROM mycatalog.hp_prd_data.fp_parsed_data fp_parsed\n",
    "    INNER JOIN mycatalog.hp_prd_data.fp_home_features fp_hm_feat\n",
    "        ON fp_parsed.propertyId = fp_hm_feat.propertyId\n",
    "\"\"\")\n",
    "\n",
    "# Define columns needed for embedding\n",
    "columns_needed = [\n",
    "    'propertyType', 'location', 'city', 'state', 'countryCode', 'postalCode',\n",
    "    'yearBuilt', 'sqft', 'lot_size', 'beds', 'baths', 'fullbaths', 'partialBaths',\n",
    "    'house_price', 'stories', 'top_features', 'zip_population', 'zip_density'\n",
    "]\n",
    "\n",
    "# Select required columns and create embedding text\n",
    "df_text = df.select(*columns_needed)\n",
    "\n",
    "# Apply UDF with individual column references\n",
    "df_text = df_text.withColumn(\n",
    "    \"embedding_text\", \n",
    "    template_udf(\n",
    "        col('propertyType'), col('location'), col('city'), col('state'), \n",
    "        col('countryCode'), col('postalCode'), col('yearBuilt'), col('sqft'),\n",
    "        col('lot_size'), col('beds'), col('baths'), col('fullbaths'), \n",
    "        col('partialBaths'), col('house_price'), col('stories'), \n",
    "        col('top_features'), col('zip_population'), col('zip_density')\n",
    "    )\n",
    ")"
   ]
  },
  {
   "cell_type": "code",
   "execution_count": 0,
   "metadata": {
    "application/vnd.databricks.v1+cell": {
     "cellMetadata": {
      "byteLimit": 2048000,
      "rowLimit": 10000
     },
     "inputWidgets": {},
     "nuid": "ec1b6c3b-b119-4118-8cc8-0274b4506280",
     "showTitle": false,
     "tableResultSettingsMap": {},
     "title": ""
    }
   },
   "outputs": [],
   "source": [
    "df_text.select(col(\"embedding_text\")).show(5, truncate=False)"
   ]
  },
  {
   "cell_type": "code",
   "execution_count": 0,
   "metadata": {
    "application/vnd.databricks.v1+cell": {
     "cellMetadata": {
      "byteLimit": 2048000,
      "rowLimit": 10000
     },
     "inputWidgets": {},
     "nuid": "34f276b3-b0b9-47b4-9a3b-ad84036cdd20",
     "showTitle": false,
     "tableResultSettingsMap": {},
     "title": ""
    }
   },
   "outputs": [],
   "source": [
    "# now how do we create vectors with it"
   ]
  },
  {
   "cell_type": "code",
   "execution_count": 0,
   "metadata": {
    "application/vnd.databricks.v1+cell": {
     "cellMetadata": {
      "byteLimit": 2048000,
      "rowLimit": 10000
     },
     "inputWidgets": {},
     "nuid": "99e942bb-71a5-4bab-a009-f32a80cc7f59",
     "showTitle": false,
     "tableResultSettingsMap": {},
     "title": ""
    }
   },
   "outputs": [],
   "source": [
    "# In Databricks notebook\n",
    "import pandas as pd\n",
    "from transformers import AutoTokenizer, AutoModel\n",
    "import torch\n",
    "\n",
    "# Load and preprocess your data\n",
    "df = df_text.select(\"embedding_text\").limit(20)\n",
    "\n",
    "# Clean and chunk your text data\n",
    "def chunk_text(text, chunk_size=512, overlap=50):\n",
    "    \"\"\"Split text into overlapping chunks\"\"\"\n",
    "    words = text.split()\n",
    "    chunks = []\n",
    "    for i in range(0, len(words), chunk_size - overlap):\n",
    "        chunk = ' '.join(words[i:i + chunk_size])\n",
    "        chunks.append(chunk)\n",
    "    return chunks\n",
    "\n",
    "# Apply chunking to your documents\n",
    "df_chunked = df.rdd.flatMap(lambda row: [\n",
    "    (row.id, chunk, row.metadata) \n",
    "    for chunk in chunk_text(row.content)\n",
    "]).toDF([\"doc_id\", \"chunk\", \"metadata\"])"
   ]
  }
 ],
 "metadata": {
  "application/vnd.databricks.v1+notebook": {
   "computePreferences": null,
   "dashboards": [],
   "environmentMetadata": {
    "base_environment": "",
    "environment_version": "3"
   },
   "inputWidgetPreferences": null,
   "language": "python",
   "notebookMetadata": {
    "mostRecentlyExecutedCommandWithImplicitDF": {
     "commandId": 6135974954475589,
     "dataframes": [
      "_sqldf"
     ]
    },
    "pythonIndentUnit": 4
   },
   "notebookName": "pine_code_test",
   "widgets": {}
  },
  "language_info": {
   "name": "python"
  }
 },
 "nbformat": 4,
 "nbformat_minor": 0
}
