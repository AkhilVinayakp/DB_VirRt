{
 "cells": [
  {
   "cell_type": "code",
   "execution_count": 0,
   "metadata": {
    "application/vnd.databricks.v1+cell": {
     "cellMetadata": {
      "byteLimit": 2048000,
      "implicitDf": true,
      "rowLimit": 10000
     },
     "inputWidgets": {},
     "nuid": "3674c250-03ee-4370-93ea-cd3c51b9b91e",
     "showTitle": false,
     "tableResultSettingsMap": {},
     "title": ""
    }
   },
   "outputs": [],
   "source": [
    "%sql\n",
    "select * from mycatalog.hp_prd_data.fp_home_features limit 10"
   ]
  },
  {
   "cell_type": "code",
   "execution_count": 0,
   "metadata": {
    "application/vnd.databricks.v1+cell": {
     "cellMetadata": {
      "byteLimit": 2048000,
      "implicitDf": true,
      "rowLimit": 10000
     },
     "inputWidgets": {},
     "nuid": "e3e00d04-e1c9-418d-a53f-f29ab607449c",
     "showTitle": false,
     "tableResultSettingsMap": {},
     "title": ""
    }
   },
   "outputs": [],
   "source": [
    "%sql\n",
    "select * from mycatalog.hp_prd_data.fp_parsed_data limit 10"
   ]
  },
  {
   "cell_type": "code",
   "execution_count": 0,
   "metadata": {
    "application/vnd.databricks.v1+cell": {
     "cellMetadata": {
      "byteLimit": 2048000,
      "implicitDf": true,
      "rowLimit": 10000
     },
     "inputWidgets": {},
     "nuid": "3cf26729-71f4-4c24-a3a3-0c93fb5938cb",
     "showTitle": false,
     "tableResultSettingsMap": {},
     "title": ""
    }
   },
   "outputs": [],
   "source": [
    "%sql\n",
    "select \n",
    "fp_parsed.*,\n",
    "fp_hm_feat.top_features\n",
    "from mycatalog.hp_prd_data.fp_parsed_data fp_parsed\n",
    "inner join mycatalog.hp_prd_data.fp_home_features fp_hm_feat\n",
    "on fp_parsed.propertyId = fp_hm_feat.propertyId\n",
    "limit 10"
   ]
  },
  {
   "cell_type": "code",
   "execution_count": 0,
   "metadata": {
    "application/vnd.databricks.v1+cell": {
     "cellMetadata": {
      "byteLimit": 2048000,
      "rowLimit": 10000
     },
     "inputWidgets": {},
     "nuid": "246add91-ac62-4c59-bf7f-95aaaf6976f9",
     "showTitle": false,
     "tableResultSettingsMap": {},
     "title": ""
    }
   },
   "outputs": [],
   "source": [
    "_sqldf.columns"
   ]
  },
  {
   "cell_type": "code",
   "execution_count": 0,
   "metadata": {
    "application/vnd.databricks.v1+cell": {
     "cellMetadata": {
      "byteLimit": 2048000,
      "rowLimit": 10000
     },
     "inputWidgets": {},
     "nuid": "2969c79f-17c5-42d8-828c-318bccba9fd8",
     "showTitle": false,
     "tableResultSettingsMap": {},
     "title": ""
    }
   },
   "outputs": [],
   "source": [
    "from pyspark.sql.functions import udf\n",
    "from pyspark.sql.types import StringType\n",
    "\n",
    "def create_template(row):\n",
    "    return (\n",
    "        f\"Property Type: {row.propertyType}. Located in {row.location}, {row.city}, {row.state}, {row.countryCode}, \"\n",
    "        f\"ZIP {row.postalCode}. Built in {row.yearBuilt}, approximately {row.sqft} sqft \"\n",
    "        f\"on a {row.lot_size} sqft lot with {row.beds} bedrooms and {row.baths} bathrooms \"\n",
    "        f\"({row.fullbaths} full, {row.partialBaths} partial). Listed price is ${row.house_price}. \"\n",
    "        f\"Stories: {row.stories}. Additional Features: {row.top_features}. \"\n",
    "        f\"Neighborhood population: {row.zip_population}, density: {row.zip_density}. \"\n",
    "    )\n",
    "\n",
    "template_udf = udf(create_template, StringType())\n",
    "\n"
   ]
  },
  {
   "cell_type": "code",
   "execution_count": 0,
   "metadata": {
    "application/vnd.databricks.v1+cell": {
     "cellMetadata": {
      "byteLimit": 2048000,
      "rowLimit": 10000
     },
     "inputWidgets": {},
     "nuid": "73e6c8e3-cb90-4bff-918b-b906c359fab5",
     "showTitle": false,
     "tableResultSettingsMap": {},
     "title": ""
    }
   },
   "outputs": [],
   "source": [
    "df = spark.sql(\"\"\"\n",
    "            select \n",
    "            fp_parsed.*,\n",
    "            fp_hm_feat.top_features\n",
    "            from mycatalog.hp_prd_data.fp_parsed_data fp_parsed\n",
    "            inner join mycatalog.hp_prd_data.fp_home_features fp_hm_feat\n",
    "            on fp_parsed.propertyId = fp_hm_feat.propertyId\n",
    "\"\"\")"
   ]
  },
  {
   "cell_type": "code",
   "execution_count": 0,
   "metadata": {
    "application/vnd.databricks.v1+cell": {
     "cellMetadata": {
      "byteLimit": 2048000,
      "rowLimit": 10000
     },
     "inputWidgets": {},
     "nuid": "63c0bdda-0dae-403c-ab56-bcd608136288",
     "showTitle": false,
     "tableResultSettingsMap": {},
     "title": ""
    }
   },
   "outputs": [],
   "source": [
    "df.count()"
   ]
  },
  {
   "cell_type": "code",
   "execution_count": 0,
   "metadata": {
    "application/vnd.databricks.v1+cell": {
     "cellMetadata": {
      "byteLimit": 2048000,
      "rowLimit": 10000
     },
     "inputWidgets": {},
     "nuid": "f2547665-6d92-4dc2-a331-1189179de6c7",
     "showTitle": false,
     "tableResultSettingsMap": {},
     "title": ""
    }
   },
   "outputs": [],
   "source": [
    "df.limit(4).toPandas()"
   ]
  },
  {
   "cell_type": "code",
   "execution_count": 0,
   "metadata": {
    "application/vnd.databricks.v1+cell": {
     "cellMetadata": {
      "byteLimit": 2048000,
      "rowLimit": 10000
     },
     "inputWidgets": {},
     "nuid": "7371a093-5509-458f-8e25-3d89b5f613b8",
     "showTitle": false,
     "tableResultSettingsMap": {},
     "title": ""
    }
   },
   "outputs": [],
   "source": [
    "# Create a single column 'text_for_embedding'\n",
    "columns_needed = [\n",
    " 'propertyType','location','city','state','countryCode','postalCode',\n",
    " 'yearBuilt','sqft','lot_size','beds','baths','fullbaths','partialBaths',\n",
    " 'house_price','stories','top_features','zip_population','zip_density'\n",
    "]\n",
    "\n",
    "df_text = df.select(*columns_needed)\n",
    "df_text = df_text.withColumn(\"embedding_text\", template_udf(*columns_needed))\n"
   ]
  },
  {
   "cell_type": "code",
   "execution_count": 0,
   "metadata": {
    "application/vnd.databricks.v1+cell": {
     "cellMetadata": {
      "byteLimit": 2048000,
      "rowLimit": 10000
     },
     "inputWidgets": {},
     "nuid": "9de76ca3-2394-4c9c-b7cf-5bc76fea47da",
     "showTitle": false,
     "tableResultSettingsMap": {},
     "title": ""
    }
   },
   "outputs": [],
   "source": [
    "df.select(*columns_needed).limit(4).toPandas()"
   ]
  },
  {
   "cell_type": "code",
   "execution_count": 0,
   "metadata": {
    "application/vnd.databricks.v1+cell": {
     "cellMetadata": {
      "byteLimit": 2048000,
      "rowLimit": 10000
     },
     "inputWidgets": {},
     "nuid": "2af2c9fb-3666-4f82-8d14-66976efed864",
     "showTitle": false,
     "tableResultSettingsMap": {},
     "title": ""
    }
   },
   "outputs": [],
   "source": [
    "df_text.printSchema()"
   ]
  },
  {
   "cell_type": "code",
   "execution_count": 0,
   "metadata": {
    "application/vnd.databricks.v1+cell": {
     "cellMetadata": {
      "byteLimit": 2048000,
      "rowLimit": 10000
     },
     "inputWidgets": {},
     "nuid": "275191b0-4bc7-4ca0-9f40-ca1ab6c029fc",
     "showTitle": false,
     "tableResultSettingsMap": {},
     "title": ""
    }
   },
   "outputs": [],
   "source": [
    "df_text.show(5, truncate=False)"
   ]
  },
  {
   "cell_type": "code",
   "execution_count": 0,
   "metadata": {
    "application/vnd.databricks.v1+cell": {
     "cellMetadata": {
      "byteLimit": 2048000,
      "rowLimit": 10000
     },
     "inputWidgets": {},
     "nuid": "644b3d06-fa6d-40c2-9159-ad35488603ec",
     "showTitle": false,
     "tableResultSettingsMap": {},
     "title": ""
    }
   },
   "outputs": [],
   "source": [
    "from pyspark.sql.functions import udf, col, when, coalesce, lit\n",
    "from pyspark.sql.types import StringType, Row\n",
    "\n",
    "def create_template(propertyType, location, city, state, countryCode, postalCode,\n",
    "                   yearBuilt, sqft, lot_size, beds, baths, fullbaths, partialBaths,\n",
    "                   house_price, stories, top_features, zip_population, zip_density):\n",
    "    \"\"\"\n",
    "    Create a template string for property data with null handling\n",
    "    \"\"\"\n",
    "    # Helper function to handle null values\n",
    "    def safe_str(value, default=\"N/A\"):\n",
    "        return str(value) if value is not None else default\n",
    "    \n",
    "    return (\n",
    "        f\"Property Type: {safe_str(propertyType)}. \"\n",
    "        f\"Located in {safe_str(location)}, {safe_str(city)}, {safe_str(state)}, {safe_str(countryCode)}, \"\n",
    "        f\"ZIP {safe_str(postalCode)}. \"\n",
    "        f\"Built in {safe_str(yearBuilt)}, approximately {safe_str(sqft)} sqft \"\n",
    "        f\"on a {safe_str(lot_size)} sqft lot with {safe_str(beds)} bedrooms and {safe_str(baths)} bathrooms \"\n",
    "        f\"({safe_str(fullbaths)} full, {safe_str(partialBaths)} partial). \"\n",
    "        f\"Listed price is ${safe_str(house_price)}. \"\n",
    "        f\"Stories: {safe_str(stories)}. \"\n",
    "        f\"Additional Features: {safe_str(top_features)}. \"\n",
    "        f\"Neighborhood population: {safe_str(zip_population)}, density: {safe_str(zip_density)}.\"\n",
    "    )\n",
    "\n",
    "# Register UDF with proper parameter mapping\n",
    "template_udf = udf(create_template, StringType())\n",
    "\n",
    "# Load data with join\n",
    "df = spark.sql(\"\"\"\n",
    "    SELECT\n",
    "        fp_parsed.*,\n",
    "        fp_hm_feat.top_features\n",
    "    FROM mycatalog.hp_prd_data.fp_parsed_data fp_parsed\n",
    "    INNER JOIN mycatalog.hp_prd_data.fp_home_features fp_hm_feat\n",
    "        ON fp_parsed.propertyId = fp_hm_feat.propertyId\n",
    "\"\"\")\n",
    "\n",
    "# Define columns needed for embedding\n",
    "columns_needed = [\n",
    "    'propertyId',\n",
    "    'propertyType', 'location', 'city', 'state', 'countryCode', 'postalCode',\n",
    "    'yearBuilt', 'sqft', 'lot_size', 'beds', 'baths', 'fullbaths', 'partialBaths',\n",
    "    'house_price', 'stories', 'top_features', 'zip_population', 'zip_density'\n",
    "]\n",
    "\n",
    "# Select required columns and create embedding text\n",
    "df_text = df.select(*columns_needed)\n",
    "\n",
    "# Apply UDF with individual column references\n",
    "df_text = df_text.withColumn(\n",
    "    \"embedding_text\", \n",
    "    template_udf(\n",
    "        col('propertyType'), col('location'), col('city'), col('state'), \n",
    "        col('countryCode'), col('postalCode'), col('yearBuilt'), col('sqft'),\n",
    "        col('lot_size'), col('beds'), col('baths'), col('fullbaths'), \n",
    "        col('partialBaths'), col('house_price'), col('stories'), \n",
    "        col('top_features'), col('zip_population'), col('zip_density')\n",
    "    )\n",
    ")"
   ]
  },
  {
   "cell_type": "code",
   "execution_count": 0,
   "metadata": {
    "application/vnd.databricks.v1+cell": {
     "cellMetadata": {
      "byteLimit": 2048000,
      "rowLimit": 10000
     },
     "inputWidgets": {},
     "nuid": "ec1b6c3b-b119-4118-8cc8-0274b4506280",
     "showTitle": false,
     "tableResultSettingsMap": {},
     "title": ""
    }
   },
   "outputs": [],
   "source": [
    "df_text.select(col(\"embedding_text\")).show(5, truncate=False)"
   ]
  },
  {
   "cell_type": "code",
   "execution_count": 0,
   "metadata": {
    "application/vnd.databricks.v1+cell": {
     "cellMetadata": {
      "byteLimit": 2048000,
      "rowLimit": 10000
     },
     "inputWidgets": {},
     "nuid": "7b35e111-ba5d-4d4b-80cf-db7b5ceb4fea",
     "showTitle": false,
     "tableResultSettingsMap": {},
     "title": ""
    }
   },
   "outputs": [],
   "source": [
    "df_text.createOrReplaceTempView(\"property_text\")"
   ]
  },
  {
   "cell_type": "code",
   "execution_count": 0,
   "metadata": {
    "application/vnd.databricks.v1+cell": {
     "cellMetadata": {
      "byteLimit": 2048000,
      "implicitDf": true,
      "rowLimit": 10000
     },
     "inputWidgets": {},
     "nuid": "bed4b666-7222-43b1-8396-e207e9fac418",
     "showTitle": false,
     "tableResultSettingsMap": {},
     "title": ""
    }
   },
   "outputs": [],
   "source": [
    "%sql\n",
    "select * from property_text limit 10"
   ]
  },
  {
   "cell_type": "code",
   "execution_count": 0,
   "metadata": {
    "application/vnd.databricks.v1+cell": {
     "cellMetadata": {
      "byteLimit": 2048000,
      "implicitDf": true,
      "rowLimit": 10000
     },
     "inputWidgets": {},
     "nuid": "4569d0cf-6229-48b9-9f13-9e56274b8864",
     "showTitle": false,
     "tableResultSettingsMap": {},
     "title": ""
    }
   },
   "outputs": [],
   "source": [
    "%sql\n",
    "SELECT\n",
    "  embedding_text,   -- Placeholder for the input column\n",
    "  ai_query(\n",
    "    'databricks-bge-large-en',\n",
    "    CONCAT(\"\", embedding_text)    -- Placeholder for the prompt and input\n",
    "  ) AS vector_ -- Placeholder for the output column\n",
    "FROM  property_text limit 10"
   ]
  },
  {
   "cell_type": "code",
   "execution_count": 0,
   "metadata": {
    "application/vnd.databricks.v1+cell": {
     "cellMetadata": {
      "byteLimit": 2048000,
      "implicitDf": true,
      "rowLimit": 10000
     },
     "inputWidgets": {},
     "nuid": "f452a085-3a4e-49cc-82b4-a91f7bed4302",
     "showTitle": false,
     "tableResultSettingsMap": {},
     "title": ""
    }
   },
   "outputs": [],
   "source": [
    "%sql\n",
    "select propertyId from mycatalog.hp_prd_data.fp_parsed_data fp_parsed limit 10"
   ]
  },
  {
   "cell_type": "code",
   "execution_count": 0,
   "metadata": {
    "application/vnd.databricks.v1+cell": {
     "cellMetadata": {
      "byteLimit": 2048000,
      "rowLimit": 10000
     },
     "inputWidgets": {},
     "nuid": "f6a5b8bf-8ea0-412c-8cd2-51471e8cc331",
     "showTitle": false,
     "tableResultSettingsMap": {},
     "title": ""
    }
   },
   "outputs": [],
   "source": [
    "dbutils.notebook.entry_point.getDbutils().notebook().getContext().apiToken().get()"
   ]
  },
  {
   "cell_type": "code",
   "execution_count": 0,
   "metadata": {
    "application/vnd.databricks.v1+cell": {
     "cellMetadata": {
      "byteLimit": 2048000,
      "rowLimit": 10000
     },
     "inputWidgets": {},
     "nuid": "92a659f4-fd77-48e8-9597-b59379e1cade",
     "showTitle": false,
     "tableResultSettingsMap": {},
     "title": ""
    }
   },
   "outputs": [],
   "source": [
    "# Pine cone sample "
   ]
  },
  {
   "cell_type": "code",
   "execution_count": 0,
   "metadata": {
    "application/vnd.databricks.v1+cell": {
     "cellMetadata": {
      "byteLimit": 2048000,
      "rowLimit": 10000
     },
     "inputWidgets": {},
     "nuid": "38795b1a-b1ce-404a-abcc-b4a405c079c4",
     "showTitle": false,
     "tableResultSettingsMap": {},
     "title": ""
    }
   },
   "outputs": [],
   "source": [
    "from pinecone import Pinecone"
   ]
  },
  {
   "cell_type": "code",
   "execution_count": 0,
   "metadata": {
    "application/vnd.databricks.v1+cell": {
     "cellMetadata": {
      "byteLimit": 2048000,
      "rowLimit": 10000
     },
     "inputWidgets": {},
     "nuid": "70f1892b-3bb5-4cd7-989d-55c5faf2d48d",
     "showTitle": false,
     "tableResultSettingsMap": {},
     "title": ""
    }
   },
   "outputs": [],
   "source": [
    "pc = Pinecone(api_key=\"null\")"
   ]
  },
  {
   "cell_type": "code",
   "execution_count": 0,
   "metadata": {
    "application/vnd.databricks.v1+cell": {
     "cellMetadata": {
      "byteLimit": 2048000,
      "rowLimit": 10000
     },
     "inputWidgets": {},
     "nuid": "746103ae-f6ef-4339-894b-76af966d3267",
     "showTitle": false,
     "tableResultSettingsMap": {},
     "title": ""
    }
   },
   "outputs": [],
   "source": [
    "index_name = \"quickstart-py\"\n",
    "if not pc.has_index(index_name):\n",
    "    pc.create_index_for_model(\n",
    "        name=index_name,\n",
    "        cloud=\"aws\",\n",
    "        region=\"us-east-1\",\n",
    "        embed={\n",
    "            \"model\":\"llama-text-embed-v2\",\n",
    "            \"field_map\":{\"text\": \"embedding_text\"}\n",
    "        }\n",
    "    )"
   ]
  },
  {
   "cell_type": "code",
   "execution_count": 0,
   "metadata": {
    "application/vnd.databricks.v1+cell": {
     "cellMetadata": {
      "byteLimit": 2048000,
      "rowLimit": 10000
     },
     "inputWidgets": {},
     "nuid": "91f444dd-6e65-4eb6-96a5-69afd1affe98",
     "showTitle": false,
     "tableResultSettingsMap": {},
     "title": ""
    }
   },
   "outputs": [],
   "source": [
    "dense_index = pc.Index(index_name)"
   ]
  },
  {
   "cell_type": "code",
   "execution_count": 0,
   "metadata": {
    "application/vnd.databricks.v1+cell": {
     "cellMetadata": {
      "byteLimit": 2048000,
      "rowLimit": 10000
     },
     "inputWidgets": {},
     "nuid": "88d0e774-6cb1-424d-95da-ee4e1d9998e7",
     "showTitle": false,
     "tableResultSettingsMap": {},
     "title": ""
    }
   },
   "outputs": [],
   "source": [
    "records = spark.sql(\"SELECT cast(propertyId as STRING) as _id, embedding_text FROM property_text LIMIT 20\").toPandas().to_dict(orient=\"records\")"
   ]
  },
  {
   "cell_type": "code",
   "execution_count": 0,
   "metadata": {
    "application/vnd.databricks.v1+cell": {
     "cellMetadata": {
      "byteLimit": 2048000,
      "rowLimit": 10000
     },
     "inputWidgets": {},
     "nuid": "6aeec9b6-e909-49e7-b972-5cdae9b6cea3",
     "showTitle": false,
     "tableResultSettingsMap": {},
     "title": ""
    }
   },
   "outputs": [],
   "source": [
    "records"
   ]
  },
  {
   "cell_type": "code",
   "execution_count": 0,
   "metadata": {
    "application/vnd.databricks.v1+cell": {
     "cellMetadata": {
      "byteLimit": 2048000,
      "rowLimit": 10000
     },
     "inputWidgets": {},
     "nuid": "b7af397e-3a01-4e1e-8fa3-0a71b1038563",
     "showTitle": false,
     "tableResultSettingsMap": {},
     "title": ""
    }
   },
   "outputs": [],
   "source": [
    "dense_index.upsert_records(\"example-namespace\", records)"
   ]
  },
  {
   "cell_type": "code",
   "execution_count": 0,
   "metadata": {
    "application/vnd.databricks.v1+cell": {
     "cellMetadata": {
      "byteLimit": 2048000,
      "rowLimit": 10000
     },
     "inputWidgets": {},
     "nuid": "25d8a604-42da-444f-8e6c-67a6759b8486",
     "showTitle": false,
     "tableResultSettingsMap": {},
     "title": ""
    }
   },
   "outputs": [],
   "source": [
    "stats = dense_index.describe_index_stats()\n",
    "print(stats)"
   ]
  },
  {
   "cell_type": "code",
   "execution_count": 0,
   "metadata": {
    "application/vnd.databricks.v1+cell": {
     "cellMetadata": {
      "byteLimit": 2048000,
      "rowLimit": 10000
     },
     "inputWidgets": {},
     "nuid": "ecba35f4-75a7-442a-b6be-7adf7213fadf",
     "showTitle": false,
     "tableResultSettingsMap": {},
     "title": ""
    }
   },
   "outputs": [],
   "source": [
    "# Delete the index\n",
    "pc.delete_index(index_name)"
   ]
  },
  {
   "cell_type": "code",
   "execution_count": 0,
   "metadata": {
    "application/vnd.databricks.v1+cell": {
     "cellMetadata": {},
     "inputWidgets": {},
     "nuid": "36a35e34-1e84-4d88-a8cd-68faa21fe4f7",
     "showTitle": false,
     "tableResultSettingsMap": {},
     "title": ""
    }
   },
   "outputs": [],
   "source": []
  }
 ],
 "metadata": {
  "application/vnd.databricks.v1+notebook": {
   "computePreferences": {
    "hardware": {
     "accelerator": null,
     "gpuPoolId": null,
     "memory": "HIGH"
    }
   },
   "dashboards": [],
   "environmentMetadata": {
    "base_environment": "",
    "dependencies": [
     "pinecone"
    ],
    "environment_version": "3"
   },
   "inputWidgetPreferences": null,
   "language": "python",
   "notebookMetadata": {
    "mostRecentlyExecutedCommandWithImplicitDF": {
     "commandId": 7258166841039980,
     "dataframes": [
      "_sqldf"
     ]
    },
    "pythonIndentUnit": 4
   },
   "notebookName": "pine_code_test",
   "widgets": {}
  },
  "language_info": {
   "name": "python"
  }
 },
 "nbformat": 4,
 "nbformat_minor": 0
}
