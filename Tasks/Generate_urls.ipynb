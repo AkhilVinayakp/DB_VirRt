{
 "cells": [
  {
   "cell_type": "code",
   "execution_count": 0,
   "metadata": {
    "application/vnd.databricks.v1+cell": {
     "cellMetadata": {
      "byteLimit": 2048000,
      "rowLimit": 10000
     },
     "inputWidgets": {},
     "nuid": "7da6991a-3964-47c7-8c5e-ac373693aaa1",
     "showTitle": false,
     "tableResultSettingsMap": {},
     "title": ""
    }
   },
   "outputs": [],
   "source": [
    "dbutils.widgets.text(\"db\", \"mycatalog\", \"Database\")\n",
    "catelog = dbutils.widgets.get(\"db\")\n",
    "dbutils.widgets.text(\"schema\", \"hp_prd_data\", \"Schema\")\n",
    "schema = dbutils.widgets.get(\"schema\")\n",
    "dbutils.widgets.text(\"Source_table\", \"uszips\")\n",
    "dbutils.widgets.text(\"Target_table\", \"generated_urls\")\n",
    "dbutils.widgets.text(\"api_url\", \"\")\n",
    "dbutils.widgets.text(\"referal_url\", \"\")\n",
    "dbutils.widgets.text(\"zip_load_count\", '20', \"\")\n"
   ]
  },
  {
   "cell_type": "code",
   "execution_count": 0,
   "metadata": {
    "application/vnd.databricks.v1+cell": {
     "cellMetadata": {
      "byteLimit": 2048000,
      "rowLimit": 10000
     },
     "inputWidgets": {},
     "nuid": "510db5b6-6b15-4192-b1eb-a02b7ce92699",
     "showTitle": false,
     "tableResultSettingsMap": {},
     "title": ""
    }
   },
   "outputs": [],
   "source": [
    "import pprint"
   ]
  },
  {
   "cell_type": "code",
   "execution_count": 0,
   "metadata": {
    "application/vnd.databricks.v1+cell": {
     "cellMetadata": {
      "byteLimit": 2048000,
      "rowLimit": 10000
     },
     "inputWidgets": {},
     "nuid": "bc5b82ea-ec37-4aae-a391-f0d18f203b50",
     "showTitle": false,
     "tableResultSettingsMap": {},
     "title": ""
    }
   },
   "outputs": [],
   "source": [
    "config_dict = {\n",
    "    \"db\": catelog,\n",
    "    \"schema\": schema,\n",
    "    \"api_url\": dbutils.widgets.get(\"api_url\"),\n",
    "    \"referal_url\": dbutils.widgets.get(\"referal_url\"),\n",
    "    \"zip_load_count\": dbutils.widgets.get(\"zip_load_count\"),\n",
    "    \"Target_table\": dbutils.widgets.get(\"Target_table\"),\n",
    "    \"Source_table\": dbutils.widgets.get(\"Source_table\")\n",
    "}"
   ]
  },
  {
   "cell_type": "code",
   "execution_count": 0,
   "metadata": {
    "application/vnd.databricks.v1+cell": {
     "cellMetadata": {
      "byteLimit": 2048000,
      "rowLimit": 10000
     },
     "inputWidgets": {},
     "nuid": "3fb2699b-10aa-41cf-9030-7ea57be0f918",
     "showTitle": false,
     "tableResultSettingsMap": {},
     "title": ""
    }
   },
   "outputs": [],
   "source": [
    "pprint.pprint(config_dict)"
   ]
  },
  {
   "cell_type": "code",
   "execution_count": 0,
   "metadata": {
    "application/vnd.databricks.v1+cell": {
     "cellMetadata": {
      "byteLimit": 2048000,
      "rowLimit": 10000
     },
     "inputWidgets": {},
     "nuid": "6b316d77-9d28-4aab-b55f-43e0c4ac63d4",
     "showTitle": false,
     "tableResultSettingsMap": {},
     "title": ""
    }
   },
   "outputs": [],
   "source": [
    "generated_urls = f\"\"\"\n",
    "CREATE OR REPLACE TABLE {config_dict['db']}.{config_dict['schema']}.{config_dict['Target_table']}\n",
    "PARTITIONED BY (processed_datehour)\n",
    "AS\n",
    "SELECT\n",
    "  zip,\n",
    "  state_id,\n",
    "  state_name,\n",
    "  format_string(\n",
    "    '{config_dict[\"api_url\"]}',\n",
    "    zip\n",
    "  ) AS api_url,\n",
    "  format_string(\n",
    "   '{config_dict[\"referal_url\"]}',\n",
    "    zip, state_id, state_name\n",
    "  ) as refereral_url,\n",
    "  date_format(current_timestamp(), 'yyyy-MM-dd-HH') AS processed_datehour\n",
    "FROM (\n",
    "    SELECT \n",
    "      zip,\n",
    "      state_id,\n",
    "      REPLACE(state_name, ' ', '-') AS state_name, \n",
    "      population\n",
    "    FROM {config_dict['db']}.{config_dict['schema']}.{config_dict['Source_table']}\n",
    "    WHERE population IS NOT NULL \n",
    "    ORDER BY rand()\n",
    "    LIMIT {config_dict['zip_load_count']}  \n",
    ") AS sub\n",
    "\"\"\"\n",
    "\n"
   ]
  },
  {
   "cell_type": "code",
   "execution_count": 0,
   "metadata": {
    "application/vnd.databricks.v1+cell": {
     "cellMetadata": {
      "byteLimit": 2048000,
      "rowLimit": 10000
     },
     "inputWidgets": {},
     "nuid": "54b89042-0f9d-4dfb-96ce-ba9885401036",
     "showTitle": false,
     "tableResultSettingsMap": {},
     "title": ""
    }
   },
   "outputs": [],
   "source": [
    "spark.sql(generated_urls)"
   ]
  },
  {
   "cell_type": "code",
   "execution_count": 0,
   "metadata": {
    "application/vnd.databricks.v1+cell": {
     "cellMetadata": {},
     "inputWidgets": {},
     "nuid": "6c680e01-ea9b-4da6-a9f5-fc18010d2337",
     "showTitle": false,
     "tableResultSettingsMap": {},
     "title": ""
    }
   },
   "outputs": [],
   "source": []
  }
 ],
 "metadata": {
  "application/vnd.databricks.v1+notebook": {
   "computePreferences": null,
   "dashboards": [],
   "environmentMetadata": {
    "base_environment": "",
    "environment_version": "2"
   },
   "inputWidgetPreferences": null,
   "language": "python",
   "notebookMetadata": {
    "pythonIndentUnit": 4
   },
   "notebookName": "Generate_urls",
   "widgets": {
    "Source_table": {
     "currentValue": "uszips",
     "nuid": "8dd2ec52-0e3a-45c6-a6aa-1c51d601692d",
     "typedWidgetInfo": {
      "autoCreated": false,
      "defaultValue": "uszips",
      "label": null,
      "name": "Source_table",
      "options": {
       "widgetDisplayType": "Text",
       "validationRegex": null
      },
      "parameterDataType": "String"
     },
     "widgetInfo": {
      "widgetType": "text",
      "defaultValue": "uszips",
      "label": null,
      "name": "Source_table",
      "options": {
       "widgetType": "text",
       "autoCreated": null,
       "validationRegex": null
      }
     }
    },
    "Target_table": {
     "currentValue": "generated_urls",
     "nuid": "1e408cf0-425a-48f6-a148-1d9a8d43225e",
     "typedWidgetInfo": {
      "autoCreated": false,
      "defaultValue": "generated_urls",
      "label": null,
      "name": "Target_table",
      "options": {
       "widgetDisplayType": "Text",
       "validationRegex": null
      },
      "parameterDataType": "String"
     },
     "widgetInfo": {
      "widgetType": "text",
      "defaultValue": "generated_urls",
      "label": null,
      "name": "Target_table",
      "options": {
       "widgetType": "text",
       "autoCreated": null,
       "validationRegex": null
      }
     }
    },
    "api_url": {
     "currentValue": "https://www.redfin.com/stingray/api/gis?al=1&include_nearby_homes=true&market=socal&num_homes=350&ord=redfin-recommended-asc&page_number=1&region_id=%s&region_type=6",
     "nuid": "21f41297-1c9c-4a91-bfcb-433cb50e7fb9",
     "typedWidgetInfo": {
      "autoCreated": false,
      "defaultValue": "",
      "label": null,
      "name": "api_url",
      "options": {
       "widgetDisplayType": "Text",
       "validationRegex": null
      },
      "parameterDataType": "String"
     },
     "widgetInfo": {
      "widgetType": "text",
      "defaultValue": "",
      "label": null,
      "name": "api_url",
      "options": {
       "widgetType": "text",
       "autoCreated": null,
       "validationRegex": null
      }
     }
    },
    "db": {
     "currentValue": "mycatalog",
     "nuid": "58235d9e-4faa-4163-b229-5d0598f57a07",
     "typedWidgetInfo": {
      "autoCreated": false,
      "defaultValue": "mycatalog",
      "label": "Database",
      "name": "db",
      "options": {
       "widgetDisplayType": "Text",
       "validationRegex": null
      },
      "parameterDataType": "String"
     },
     "widgetInfo": {
      "widgetType": "text",
      "defaultValue": "mycatalog",
      "label": "Database",
      "name": "db",
      "options": {
       "widgetType": "text",
       "autoCreated": null,
       "validationRegex": null
      }
     }
    },
    "referal_url": {
     "currentValue": "https://www.redfin.com/city/%s/%s/%s/filter/sort=lo-days",
     "nuid": "41e9bcb7-2b8e-4937-abc0-2a7ae2891cc1",
     "typedWidgetInfo": {
      "autoCreated": false,
      "defaultValue": "",
      "label": null,
      "name": "referal_url",
      "options": {
       "widgetDisplayType": "Text",
       "validationRegex": null
      },
      "parameterDataType": "String"
     },
     "widgetInfo": {
      "widgetType": "text",
      "defaultValue": "",
      "label": null,
      "name": "referal_url",
      "options": {
       "widgetType": "text",
       "autoCreated": null,
       "validationRegex": null
      }
     }
    },
    "schema": {
     "currentValue": "hp_prd_data",
     "nuid": "8128aa24-9132-48f7-8466-0d32caa1eb99",
     "typedWidgetInfo": {
      "autoCreated": false,
      "defaultValue": "hp_prd_data",
      "label": "Schema",
      "name": "schema",
      "options": {
       "widgetDisplayType": "Text",
       "validationRegex": null
      },
      "parameterDataType": "String"
     },
     "widgetInfo": {
      "widgetType": "text",
      "defaultValue": "hp_prd_data",
      "label": "Schema",
      "name": "schema",
      "options": {
       "widgetType": "text",
       "autoCreated": null,
       "validationRegex": null
      }
     }
    },
    "zip_load_count": {
     "currentValue": "20",
     "nuid": "6c9a2a00-a121-4fd7-abcf-0e871a5eadbd",
     "typedWidgetInfo": {
      "autoCreated": false,
      "defaultValue": "20",
      "label": "",
      "name": "zip_load_count",
      "options": {
       "widgetDisplayType": "Text",
       "validationRegex": null
      },
      "parameterDataType": "String"
     },
     "widgetInfo": {
      "widgetType": "text",
      "defaultValue": "20",
      "label": "",
      "name": "zip_load_count",
      "options": {
       "widgetType": "text",
       "autoCreated": null,
       "validationRegex": null
      }
     }
    }
   }
  },
  "language_info": {
   "name": "python"
  }
 },
 "nbformat": 4,
 "nbformat_minor": 0
}
