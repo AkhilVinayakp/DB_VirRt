{
 "cells": [
  {
   "cell_type": "code",
   "execution_count": 0,
   "metadata": {
    "application/vnd.databricks.v1+cell": {
     "cellMetadata": {
      "byteLimit": 2048000,
      "rowLimit": 10000
     },
     "inputWidgets": {},
     "nuid": "58f59fb6-c5bd-428c-996e-208617f09fd7",
     "showTitle": false,
     "tableResultSettingsMap": {},
     "title": ""
    }
   },
   "outputs": [],
   "source": [
    "# DataWrangling \n",
    "# - upstream : Generate_urls"
   ]
  },
  {
   "cell_type": "code",
   "execution_count": 0,
   "metadata": {
    "application/vnd.databricks.v1+cell": {
     "cellMetadata": {
      "byteLimit": 2048000,
      "rowLimit": 10000
     },
     "inputWidgets": {},
     "nuid": "c6ccf6fa-8fec-40c2-adda-8ba3cfa5d598",
     "showTitle": false,
     "tableResultSettingsMap": {},
     "title": ""
    }
   },
   "outputs": [],
   "source": []
  },
  {
   "cell_type": "code",
   "execution_count": 0,
   "metadata": {
    "application/vnd.databricks.v1+cell": {
     "cellMetadata": {
      "byteLimit": 2048000,
      "rowLimit": 10000
     },
     "inputWidgets": {},
     "nuid": "294e1a4d-9047-4f8e-9eef-3afe7e0b7d78",
     "showTitle": false,
     "tableResultSettingsMap": {},
     "title": ""
    }
   },
   "outputs": [],
   "source": [
    "dbutils.widgets.text(\"db\", \"mycatalog\", \"Database\")\n",
    "catelog = dbutils.widgets.get(\"db\")\n",
    "dbutils.widgets.text(\"schema\", \"hp_prd_data\", \"Schema\")\n",
    "schema = dbutils.widgets.get(\"schema\")\n",
    "dbutils.widgets.text(\"Source_table\", \"generated_urls\")\n",
    "dbutils.widgets.text(\"Target_table\", \"raw_data\")\n",
    "dbutils.widgets.text(\"authority\", \"\")\n"
   ]
  },
  {
   "cell_type": "code",
   "execution_count": 0,
   "metadata": {
    "application/vnd.databricks.v1+cell": {
     "cellMetadata": {
      "byteLimit": 2048000,
      "rowLimit": 10000
     },
     "inputWidgets": {},
     "nuid": "97706e58-a6a5-42ac-9143-c107aae6c58c",
     "showTitle": false,
     "tableResultSettingsMap": {},
     "title": ""
    }
   },
   "outputs": [],
   "source": [
    "config_dict = {\n",
    "    \"db\": catelog,\n",
    "    \"schema\": schema,\n",
    "    \"Target_table\": dbutils.widgets.get(\"Target_table\"),\n",
    "    \"Source_table\": dbutils.widgets.get(\"Source_table\")\n",
    "}"
   ]
  },
  {
   "cell_type": "code",
   "execution_count": 0,
   "metadata": {
    "application/vnd.databricks.v1+cell": {
     "cellMetadata": {
      "byteLimit": 2048000,
      "rowLimit": 10000
     },
     "inputWidgets": {},
     "nuid": "1dd8a85c-1fbc-41e9-9ff3-54004f43bd30",
     "showTitle": false,
     "tableResultSettingsMap": {},
     "title": ""
    }
   },
   "outputs": [],
   "source": [
    "import requests\n",
    "import json\n",
    "from datetime import datetime\n",
    "from pyspark.sql.types import *\n",
    "from pyspark.sql.functions import current_timestamp, hour\n",
    "from pyspark.sql import Row"
   ]
  },
  {
   "cell_type": "code",
   "execution_count": 0,
   "metadata": {
    "application/vnd.databricks.v1+cell": {
     "cellMetadata": {
      "byteLimit": 2048000,
      "rowLimit": 10000
     },
     "inputWidgets": {},
     "nuid": "fa86ae0d-76de-4ac5-8958-9a227eb4ca2a",
     "showTitle": false,
     "tableResultSettingsMap": {},
     "title": ""
    }
   },
   "outputs": [],
   "source": []
  },
  {
   "cell_type": "code",
   "execution_count": 0,
   "metadata": {
    "application/vnd.databricks.v1+cell": {
     "cellMetadata": {
      "byteLimit": 2048000,
      "rowLimit": 10000
     },
     "inputWidgets": {},
     "nuid": "68280195-b519-4f36-a4bb-993e3f3b7339",
     "showTitle": false,
     "tableResultSettingsMap": {},
     "title": ""
    }
   },
   "outputs": [],
   "source": [
    "headers = {\n",
    "            \"authority\": dbutils.widgets.get(\"authority\"),\n",
    "            \"accept\": \"*/*\",\n",
    "            \"accept-language\": \"en-US,en;q=0.7\",\n",
    "            \"referer\": \"\",\n",
    "            \"sec-ch-ua\": '\"Not A(Brand\";v=\"99\", \"Brave\";v=\"121\", \"Chromium\";v=\"121\"',  # noqa\n",
    "            \"sec-ch-ua-mobile\": \"?0\",\n",
    "            \"sec-ch-ua-platform\": '\"Windows\"',\n",
    "            \"sec-fetch-dest\": \"empty\",\n",
    "            \"sec-fetch-mode\": \"cors\",\n",
    "            \"sec-fetch-site\": \"same-origin\",\n",
    "            \"sec-gpc\": \"1\",\n",
    "            \"user-agent\": \"Mozilla/5.0 (Windows NT 10.0; Win64; x64) AppleWebKit/537.36 (KHTML, like Gecko) Chrome/121.0.0.0 Safari/537.36\",  # noqa\n",
    "        }"
   ]
  },
  {
   "cell_type": "code",
   "execution_count": 0,
   "metadata": {
    "application/vnd.databricks.v1+cell": {
     "cellMetadata": {
      "byteLimit": 2048000,
      "rowLimit": 10000
     },
     "inputWidgets": {},
     "nuid": "2a60bac4-d2ab-443e-aff0-3fecf992e284",
     "showTitle": false,
     "tableResultSettingsMap": {},
     "title": ""
    }
   },
   "outputs": [],
   "source": [
    "urls_df = spark.table(f\"{config_dict['db']}.{config_dict['schema']}.{config_dict['Source_table']}\").select(\"zip\",\"api_url\", \"refereral_url\")\n",
    "urls_list = [(row[\"zip\"], row[\"api_url\"], row[\"refereral_url\"]) for row in urls_df.collect()]"
   ]
  },
  {
   "cell_type": "code",
   "execution_count": 0,
   "metadata": {
    "application/vnd.databricks.v1+cell": {
     "cellMetadata": {
      "byteLimit": 2048000,
      "rowLimit": 10000
     },
     "inputWidgets": {},
     "nuid": "2ba6215b-70e0-4130-88cf-c44203072a87",
     "showTitle": false,
     "tableResultSettingsMap": {},
     "title": ""
    }
   },
   "outputs": [],
   "source": [
    "raw_records = []"
   ]
  },
  {
   "cell_type": "code",
   "execution_count": 0,
   "metadata": {
    "application/vnd.databricks.v1+cell": {
     "cellMetadata": {
      "byteLimit": 2048000,
      "rowLimit": 10000
     },
     "inputWidgets": {},
     "nuid": "2ac40a94-fd58-440c-a59a-2309e73d6156",
     "showTitle": false,
     "tableResultSettingsMap": {},
     "title": ""
    }
   },
   "outputs": [],
   "source": [
    "for zipcode, api_url, ref_url in urls_list:\n",
    "    print(\"Fetching data for url :\", api_url)\n",
    "    try:\n",
    "        req_header = headers.copy()\n",
    "        req_header[\"referer\"] = ref_url\n",
    "        req_url = api_url\n",
    "        # sending the request.\n",
    "        response = requests.get(req_url, headers=req_header)\n",
    "        print(\"From server :\", response.status_code, \"for url -\", req_url)\n",
    "        raw_records.append(Row(\n",
    "            zipcode=zipcode,\n",
    "            source_url=api_url,\n",
    "            raw_json=response.text,\n",
    "            http_status_code=response.status_code,\n",
    "            ingestion_timestamp=datetime.utcnow()\n",
    "        ))\n",
    "\n",
    "    except Exception as e:\n",
    "        raw_records.append(Row(\n",
    "            zipcode=zipcode,\n",
    "            source_url=api_url,\n",
    "            raw_json=json.dumps({\"error\": str(e)}),\n",
    "            http_status_code=500,\n",
    "            ingestion_timestamp=datetime.utcnow()\n",
    "        ))"
   ]
  },
  {
   "cell_type": "code",
   "execution_count": 0,
   "metadata": {
    "application/vnd.databricks.v1+cell": {
     "cellMetadata": {
      "byteLimit": 2048000,
      "rowLimit": 10000
     },
     "inputWidgets": {},
     "nuid": "7e3899b5-1f8e-45b6-b0d2-c9fce58be281",
     "showTitle": false,
     "tableResultSettingsMap": {},
     "title": ""
    }
   },
   "outputs": [],
   "source": [
    "raw_df = spark.createDataFrame(raw_records)\n",
    "raw_df = raw_df.withColumn(\"processed_date\", current_timestamp().cast(\"date\")).withColumn(\"processed_hour\", hour(current_timestamp()))"
   ]
  },
  {
   "cell_type": "code",
   "execution_count": 0,
   "metadata": {
    "application/vnd.databricks.v1+cell": {
     "cellMetadata": {
      "byteLimit": 2048000,
      "rowLimit": 10000
     },
     "inputWidgets": {},
     "nuid": "2d631a92-5ccd-4cdc-b8e7-b042a1950e53",
     "showTitle": false,
     "tableResultSettingsMap": {},
     "title": ""
    }
   },
   "outputs": [],
   "source": [
    "raw_df.write.format(\"delta\").mode(\"append\").saveAsTable(f\"{config_dict['db']}.{config_dict['schema']}.{config_dict['Target_table']}\")"
   ]
  },
  {
   "cell_type": "code",
   "execution_count": 0,
   "metadata": {
    "application/vnd.databricks.v1+cell": {
     "cellMetadata": {
      "byteLimit": 2048000,
      "rowLimit": 10000
     },
     "inputWidgets": {},
     "nuid": "558e3ed8-1599-49c1-ab3f-c74cf1c8395b",
     "showTitle": false,
     "tableResultSettingsMap": {},
     "title": ""
    }
   },
   "outputs": [],
   "source": []
  }
 ],
 "metadata": {
  "application/vnd.databricks.v1+notebook": {
   "computePreferences": null,
   "dashboards": [],
   "environmentMetadata": {
    "base_environment": "",
    "environment_version": "2"
   },
   "inputWidgetPreferences": null,
   "language": "python",
   "notebookMetadata": {
    "pythonIndentUnit": 4
   },
   "notebookName": "data_wrag",
   "widgets": {
    "Source_table": {
     "currentValue": "generated_urls",
     "nuid": "151ebffa-4fb6-4028-a0c2-98f0ff20b065",
     "typedWidgetInfo": {
      "autoCreated": false,
      "defaultValue": "generated_urls",
      "label": null,
      "name": "Source_table",
      "options": {
       "widgetDisplayType": "Text",
       "validationRegex": null
      },
      "parameterDataType": "String"
     },
     "widgetInfo": {
      "widgetType": "text",
      "defaultValue": "generated_urls",
      "label": null,
      "name": "Source_table",
      "options": {
       "widgetType": "text",
       "autoCreated": null,
       "validationRegex": null
      }
     }
    },
    "Target_table": {
     "currentValue": "raw_data",
     "nuid": "d8e5e45a-5731-45e7-a399-ac042d261833",
     "typedWidgetInfo": {
      "autoCreated": false,
      "defaultValue": "raw_data",
      "label": null,
      "name": "Target_table",
      "options": {
       "widgetDisplayType": "Text",
       "validationRegex": null
      },
      "parameterDataType": "String"
     },
     "widgetInfo": {
      "widgetType": "text",
      "defaultValue": "raw_data",
      "label": null,
      "name": "Target_table",
      "options": {
       "widgetType": "text",
       "autoCreated": null,
       "validationRegex": null
      }
     }
    },
    "authority": {
     "currentValue": "www.redfin.com",
     "nuid": "8e41b9e6-e4a2-4c45-9a5c-e9a7a5aef862",
     "typedWidgetInfo": {
      "autoCreated": false,
      "defaultValue": "",
      "label": null,
      "name": "authority",
      "options": {
       "widgetDisplayType": "Text",
       "validationRegex": null
      },
      "parameterDataType": "String"
     },
     "widgetInfo": {
      "widgetType": "text",
      "defaultValue": "",
      "label": null,
      "name": "authority",
      "options": {
       "widgetType": "text",
       "autoCreated": null,
       "validationRegex": null
      }
     }
    },
    "db": {
     "currentValue": "mycatalog",
     "nuid": "77496598-1b1b-4ae1-8762-64b406b02a6e",
     "typedWidgetInfo": {
      "autoCreated": false,
      "defaultValue": "mycatalog",
      "label": "Database",
      "name": "db",
      "options": {
       "widgetDisplayType": "Text",
       "validationRegex": null
      },
      "parameterDataType": "String"
     },
     "widgetInfo": {
      "widgetType": "text",
      "defaultValue": "mycatalog",
      "label": "Database",
      "name": "db",
      "options": {
       "widgetType": "text",
       "autoCreated": null,
       "validationRegex": null
      }
     }
    },
    "schema": {
     "currentValue": "hp_prd_data",
     "nuid": "839b2ea9-ca15-4c58-b5a6-08c14220b3b8",
     "typedWidgetInfo": {
      "autoCreated": false,
      "defaultValue": "hp_prd_data",
      "label": "Schema",
      "name": "schema",
      "options": {
       "widgetDisplayType": "Text",
       "validationRegex": null
      },
      "parameterDataType": "String"
     },
     "widgetInfo": {
      "widgetType": "text",
      "defaultValue": "hp_prd_data",
      "label": "Schema",
      "name": "schema",
      "options": {
       "widgetType": "text",
       "autoCreated": null,
       "validationRegex": null
      }
     }
    }
   }
  },
  "language_info": {
   "name": "python"
  }
 },
 "nbformat": 4,
 "nbformat_minor": 0
}
