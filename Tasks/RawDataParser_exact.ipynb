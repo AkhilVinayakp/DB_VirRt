{
 "cells": [
  {
   "cell_type": "code",
   "execution_count": 0,
   "metadata": {
    "application/vnd.databricks.v1+cell": {
     "cellMetadata": {
      "byteLimit": 2048000,
      "rowLimit": 10000
     },
     "inputWidgets": {},
     "nuid": "97726f51-9990-49f0-a631-68fbd9a0e5e5",
     "showTitle": false,
     "tableResultSettingsMap": {},
     "title": ""
    }
   },
   "outputs": [],
   "source": [
    "# first thing we need to have loading logic we check what is the max_ingestion time in the downstream table and set\n",
    "# query accordingly to load the upstream table"
   ]
  },
  {
   "cell_type": "code",
   "execution_count": 0,
   "metadata": {
    "application/vnd.databricks.v1+cell": {
     "cellMetadata": {
      "byteLimit": 2048000,
      "implicitDf": true,
      "rowLimit": 10000
     },
     "inputWidgets": {},
     "nuid": "2fe5398d-1052-48f0-97a4-519d5942acbf",
     "showTitle": false,
     "tableResultSettingsMap": {},
     "title": ""
    }
   },
   "outputs": [],
   "source": [
    "%sql\n",
    "select current_timestamp() as ts"
   ]
  },
  {
   "cell_type": "code",
   "execution_count": 0,
   "metadata": {
    "application/vnd.databricks.v1+cell": {
     "cellMetadata": {
      "byteLimit": 2048000,
      "rowLimit": 10000
     },
     "inputWidgets": {},
     "nuid": "fec1b2d3-27ea-4c02-8c08-621401c55444",
     "showTitle": false,
     "tableResultSettingsMap": {},
     "title": ""
    }
   },
   "outputs": [],
   "source": [
    "# new table name parsed_data"
   ]
  },
  {
   "cell_type": "code",
   "execution_count": 0,
   "metadata": {
    "application/vnd.databricks.v1+cell": {
     "cellMetadata": {
      "byteLimit": 2048000,
      "rowLimit": 10000
     },
     "inputWidgets": {},
     "nuid": "ef59636e-bf7b-41fb-890b-9e50086abef6",
     "showTitle": false,
     "tableResultSettingsMap": {},
     "title": ""
    }
   },
   "outputs": [],
   "source": [
    "from pyspark.sql.functions import col, lit\n",
    "from pyspark.sql.utils import AnalysisException\n",
    "\n",
    "# Default to load all data if no timestamp found\n",
    "default_timestamp = \"1900-01-01 00:00:00\"\n",
    "\n",
    "try:\n",
    "    result = spark.sql(\"SELECT MAX(ingestion_timestamp) AS last_ts FROM mycatalog.hp_prd_data.parsed_data\").collect()\n",
    "    last_processed_timestamp = result[0][\"last_ts\"]\n",
    "    \n",
    "    # Handle first-time (null result)\n",
    "    if last_processed_timestamp is None:\n",
    "        last_processed_timestamp = default_timestamp\n",
    "\n",
    "except AnalysisException as e:\n",
    "    # Table does not exist (e.g., first run)\n",
    "    print(\"Downstream table doesn't exist. Loading all data.\")\n",
    "    last_processed_timestamp = default_timestamp\n"
   ]
  },
  {
   "cell_type": "code",
   "execution_count": 0,
   "metadata": {
    "application/vnd.databricks.v1+cell": {
     "cellMetadata": {
      "byteLimit": 2048000,
      "rowLimit": 10000
     },
     "inputWidgets": {},
     "nuid": "0d3d6080-0ceb-4069-b37a-8a0537272f01",
     "showTitle": false,
     "tableResultSettingsMap": {},
     "title": ""
    }
   },
   "outputs": [],
   "source": [
    "last_processed_timestamp"
   ]
  },
  {
   "cell_type": "code",
   "execution_count": 0,
   "metadata": {
    "application/vnd.databricks.v1+cell": {
     "cellMetadata": {
      "byteLimit": 2048000,
      "rowLimit": 10000
     },
     "inputWidgets": {},
     "nuid": "e21b30f2-1b94-4c78-8df0-59a4c228d08b",
     "showTitle": false,
     "tableResultSettingsMap": {},
     "title": ""
    }
   },
   "outputs": [],
   "source": [
    "df = spark.sql(f\"SELECT zipcode, raw_json FROM mycatalog.hp_prd_data.raw_data WHERE ingestion_timestamp > '{last_processed_timestamp}'\")"
   ]
  },
  {
   "cell_type": "code",
   "execution_count": 0,
   "metadata": {
    "application/vnd.databricks.v1+cell": {
     "cellMetadata": {
      "byteLimit": 2048000,
      "rowLimit": 10000
     },
     "inputWidgets": {},
     "nuid": "550cbe48-bb5d-45ad-a7a3-67ced9f98a67",
     "showTitle": false,
     "tableResultSettingsMap": {},
     "title": ""
    }
   },
   "outputs": [],
   "source": [
    "df.count()"
   ]
  },
  {
   "cell_type": "code",
   "execution_count": 0,
   "metadata": {
    "application/vnd.databricks.v1+cell": {
     "cellMetadata": {
      "byteLimit": 2048000,
      "rowLimit": 10000
     },
     "inputWidgets": {},
     "nuid": "27d04b03-3274-4040-b65d-fb72483cf41c",
     "showTitle": false,
     "tableResultSettingsMap": {},
     "title": ""
    }
   },
   "outputs": [],
   "source": [
    "import json\n",
    "from pyspark.sql.functions import udf\n",
    "from pyspark.sql.types import *\n",
    "# Define schema of one flattened home\n",
    "home_schema = StructType([\n",
    "    StructField(\"search_zipcode\", StringType()),\n",
    "    StructField(\"mls#\", StringType()),\n",
    "    StructField(\"mls_status\", StringType()),\n",
    "    StructField(\"house_price\", LongType()),\n",
    "    StructField(\"hoa\", StringType()),                  # None or str\n",
    "    StructField(\"sqft\", StringType()),                 # Can be None or float\n",
    "    StructField(\"price_per_sqft\", StringType()),\n",
    "    StructField(\"lot_size\", StringType()),\n",
    "    StructField(\"beds\",StringType()),\n",
    "    StructField(\"baths\", StringType()),\n",
    "    StructField(\"fullbaths\", StringType()),\n",
    "    StructField(\"partialBaths\", StringType()),\n",
    "    StructField(\"location\", StringType()),\n",
    "    StructField(\"stories\", StringType()),              # stories is 1.0, so use DoubleType\n",
    "    StructField(\"latitude\", DoubleType()),\n",
    "    StructField(\"longitude\", DoubleType()),\n",
    "    StructField(\"streetLine\", StringType()),\n",
    "    StructField(\"city\", StringType()),\n",
    "    StructField(\"state\", StringType()),\n",
    "    StructField(\"zip\", StringType()),\n",
    "    StructField(\"postalCode\", StringType()),\n",
    "    StructField(\"countryCode\", StringType()),\n",
    "    StructField(\"searchStatus\", IntegerType()),        # 1\n",
    "    StructField(\"propertyType\", IntegerType()),        # 6\n",
    "    StructField(\"uiPropertyType\", IntegerType()),      # 1\n",
    "    StructField(\"listingType\", IntegerType()),         # 1\n",
    "    StructField(\"propertyId\", LongType()),             # 38910260\n",
    "    StructField(\"listingId\", LongType()),              # 205114738\n",
    "    StructField(\"dataSourceId\", IntegerType()),\n",
    "    StructField(\"marketId\", IntegerType()),\n",
    "    StructField(\"yearBuilt\", IntegerType()),\n",
    "    StructField(\"openHouseStartFormatted\", StringType()),\n",
    "    StructField(\"openHouseEventName\", StringType()),\n",
    "    StructField(\"url\", StringType()),\n",
    "    StructField(\"isHot\", BooleanType()),\n",
    "    StructField(\"hasVirtualTour\", BooleanType()),\n",
    "    StructField(\"hasVideoTour\", BooleanType()),\n",
    "    StructField(\"has3DTour\", BooleanType()),\n",
    "    StructField(\"isActiveKeyListing\", BooleanType()),\n",
    "    StructField(\"isNewConstruction\", BooleanType()),\n",
    "    StructField(\"listingRemarks\", StringType()),\n",
    "    StructField(\"scanUrl\", StringType()),\n",
    "    StructField(\"posterFrameUrl\", StringType())\n",
    "])\n",
    "\n",
    "# Define UDF that returns an array of flattened homes\n",
    "def extract_listings(text, search_zipcode):\n",
    "    results = []\n",
    "    try:\n",
    "        json_text = text[4:]\n",
    "        data = json.loads(json_text)\n",
    "        homes = data.get(\"payload\", {}).get(\"originalHomes\", {}).get(\"homes\", [])\n",
    "        \n",
    "        for row in homes:\n",
    "            try:\n",
    "                results.append({\n",
    "                    \"search_zipcode\": search_zipcode,\n",
    "                    \"mls#\": row.get(\"mlsId\", {}).get(\"value\"),\n",
    "                    \"mls_status\": row.get(\"mlsStatus\"),\n",
    "                    \"house_price\": row.get(\"price\", {}).get(\"value\"),\n",
    "                    \"hoa\": row.get(\"hoa\", {}).get(\"value\") if \"hoa\" in row and \"value\" in row[\"hoa\"] else None,\n",
    "                    \"sqft\": row.get(\"sqFt\", {}).get(\"value\") if \"sqFt\" in row else None,  # FIXED\n",
    "                    \"price_per_sqft\": row.get(\"pricePerSqFt\", {}).get(\"value\"),\n",
    "                    \"lot_size\": row.get(\"lotSize\", {}).get(\"value\"),\n",
    "                    \"beds\": row.get(\"beds\"),\n",
    "                    \"baths\": row.get(\"baths\"),\n",
    "                    \"fullbaths\": row.get(\"fullbaths\"),\n",
    "                    \"partialBaths\": row.get(\"partialBaths\"),\n",
    "                    \"location\": row.get(\"location\", {}).get(\"value\"),\n",
    "                    \"stories\": row.get(\"stories\"),\n",
    "                    \"latitude\": row.get(\"latLong\", {}).get(\"value\", {}).get(\"latitude\"),\n",
    "                    \"longitude\": row.get(\"latLong\", {}).get(\"value\", {}).get(\"longitude\"),\n",
    "                    \"streetLine\": row.get(\"streetLine\", {}).get(\"value\"),\n",
    "                    \"city\": row.get(\"city\"),\n",
    "                    \"state\": row.get(\"state\"),\n",
    "                    \"zip\": row.get(\"zip\"),\n",
    "                    \"postalCode\": row.get(\"postalCode\", {}).get(\"value\"),\n",
    "                    \"countryCode\": row.get(\"countryCode\"),\n",
    "                    \"searchStatus\": row.get(\"searchStatus\"),\n",
    "                    \"propertyType\": row.get(\"propertyType\"),\n",
    "                    \"uiPropertyType\": row.get(\"uiPropertyType\"),\n",
    "                    \"listingType\": row.get(\"listingType\"),\n",
    "                    \"propertyId\": row.get(\"propertyId\"),\n",
    "                    \"listingId\": row.get(\"listingId\"),\n",
    "                    \"dataSourceId\": row.get(\"dataSourceId\"),\n",
    "                    \"marketId\": row.get(\"marketId\"),\n",
    "                    \"yearBuilt\": row.get(\"yearBuilt\", {}).get(\"value\"),\n",
    "                    \"openHouseStartFormatted\": row.get(\"openHouseStartFormatted\"),\n",
    "                    \"openHouseEventName\": row.get(\"openHouseEventName\"),\n",
    "                    \"url\": row.get(\"url\"),\n",
    "                    \"isHot\": row.get(\"isHot\"),\n",
    "                    \"hasVirtualTour\": row.get(\"hasVirtualTour\"),\n",
    "                    \"hasVideoTour\": row.get(\"hasVideoTour\"),\n",
    "                    \"has3DTour\": row.get(\"has3DTour\"),\n",
    "                    \"isActiveKeyListing\": row.get(\"isActiveKeyListing\"),\n",
    "                    \"isNewConstruction\": row.get(\"isNewConstruction\"),\n",
    "                    \"listingRemarks\": row.get(\"listingRemarks\"),\n",
    "                    \"scanUrl\": row.get(\"scanUrl\"),\n",
    "                    \"posterFrameUrl\": row.get(\"posterFrameUrl\")\n",
    "                })\n",
    "            except Exception as e:\n",
    "                print(\"we have an error \", e)\n",
    "                continue\n",
    "            print(\"PRICE BLOCK:\", row.get(\"price\"))    \n",
    "    except Exception as e:\n",
    "        pass\n",
    "    return results\n",
    "# Register as UDF\n",
    "extract_udf = udf(extract_listings, ArrayType(home_schema))\n"
   ]
  },
  {
   "cell_type": "code",
   "execution_count": 0,
   "metadata": {
    "application/vnd.databricks.v1+cell": {
     "cellMetadata": {
      "byteLimit": 2048000,
      "rowLimit": 10000
     },
     "inputWidgets": {},
     "nuid": "85a6ea20-2fc6-485d-8d44-cc8d7b9062fa",
     "showTitle": false,
     "tableResultSettingsMap": {},
     "title": ""
    }
   },
   "outputs": [],
   "source": [
    "df_extracted = df.withColumn(\"homes_array\", extract_udf(\"raw_json\", \"zipcode\"))"
   ]
  },
  {
   "cell_type": "code",
   "execution_count": 0,
   "metadata": {
    "application/vnd.databricks.v1+cell": {
     "cellMetadata": {
      "byteLimit": 2048000,
      "rowLimit": 10000
     },
     "inputWidgets": {},
     "nuid": "d9def139-a702-4132-bf1b-116a06a7563c",
     "showTitle": false,
     "tableResultSettingsMap": {},
     "title": ""
    }
   },
   "outputs": [],
   "source": [
    "from pyspark.sql.functions import explode\n",
    "import datetime"
   ]
  },
  {
   "cell_type": "code",
   "execution_count": 0,
   "metadata": {
    "application/vnd.databricks.v1+cell": {
     "cellMetadata": {
      "byteLimit": 2048000,
      "rowLimit": 10000
     },
     "inputWidgets": {},
     "nuid": "5f00effa-8518-4b95-8e1b-a771ae143baf",
     "showTitle": false,
     "tableResultSettingsMap": {},
     "title": ""
    }
   },
   "outputs": [],
   "source": [
    "\n",
    "final_df = df_extracted.select(explode(\"homes_array\").alias(\"home\")).select(\"home.*\")"
   ]
  },
  {
   "cell_type": "code",
   "execution_count": 0,
   "metadata": {
    "application/vnd.databricks.v1+cell": {
     "cellMetadata": {
      "byteLimit": 2048000,
      "implicitDf": true,
      "rowLimit": 10000
     },
     "inputWidgets": {},
     "nuid": "2dd58046-33a4-487d-9b93-e5b85963a511",
     "showTitle": false,
     "tableResultSettingsMap": {},
     "title": ""
    }
   },
   "outputs": [],
   "source": [
    "%sql\n",
    "drop table mycatalog.hp_prd_data.dev_parsed_data"
   ]
  },
  {
   "cell_type": "code",
   "execution_count": 0,
   "metadata": {
    "application/vnd.databricks.v1+cell": {
     "cellMetadata": {
      "byteLimit": 2048000,
      "rowLimit": 10000
     },
     "inputWidgets": {},
     "nuid": "c28c9339-132a-4af4-92c4-d90d08c45a42",
     "showTitle": false,
     "tableResultSettingsMap": {},
     "title": ""
    }
   },
   "outputs": [],
   "source": [
    "from pyspark.sql.functions import current_timestamp\n",
    "from pyspark.sql.types import TimestampType\n",
    "\n",
    "final_df = final_df.withColumn(\"ingestion_timestamp\", current_timestamp().cast(TimestampType()))\n"
   ]
  },
  {
   "cell_type": "code",
   "execution_count": 0,
   "metadata": {
    "application/vnd.databricks.v1+cell": {
     "cellMetadata": {
      "byteLimit": 2048000,
      "rowLimit": 10000
     },
     "inputWidgets": {},
     "nuid": "07ccf894-10cd-4034-bf29-176fe19014cc",
     "showTitle": false,
     "tableResultSettingsMap": {},
     "title": ""
    }
   },
   "outputs": [],
   "source": [
    "\n",
    "final_df.write.mode(\"append\").saveAsTable(\"mycatalog.hp_prd_data.parsed_data\")"
   ]
  },
  {
   "cell_type": "code",
   "execution_count": 0,
   "metadata": {
    "application/vnd.databricks.v1+cell": {
     "cellMetadata": {
      "byteLimit": 2048000,
      "implicitDf": true,
      "rowLimit": 10000
     },
     "inputWidgets": {},
     "nuid": "84358aee-774c-4566-91b7-102f74e3069e",
     "showTitle": false,
     "tableResultSettingsMap": {},
     "title": ""
    }
   },
   "outputs": [],
   "source": [
    "%sql\n",
    "select * from mycatalog.hp_prd_data.dev_parsed_data limit 10"
   ]
  },
  {
   "cell_type": "code",
   "execution_count": 0,
   "metadata": {
    "application/vnd.databricks.v1+cell": {
     "cellMetadata": {
      "byteLimit": 2048000,
      "implicitDf": true,
      "rowLimit": 10000
     },
     "inputWidgets": {},
     "nuid": "eb5f5d0e-d378-4d03-82a5-2ed3be40dfc1",
     "showTitle": false,
     "tableResultSettingsMap": {},
     "title": ""
    }
   },
   "outputs": [],
   "source": [
    "%sql\n",
    "select\n",
    "count(*) from\n",
    "mycatalog.hp_prd_data.parsed_data"
   ]
  },
  {
   "cell_type": "code",
   "execution_count": 0,
   "metadata": {
    "application/vnd.databricks.v1+cell": {
     "cellMetadata": {},
     "inputWidgets": {},
     "nuid": "8479836a-2dcb-4c17-88f5-03a89fb47a37",
     "showTitle": false,
     "tableResultSettingsMap": {},
     "title": ""
    }
   },
   "outputs": [],
   "source": []
  }
 ],
 "metadata": {
  "application/vnd.databricks.v1+notebook": {
   "computePreferences": null,
   "dashboards": [],
   "environmentMetadata": {
    "base_environment": "",
    "environment_version": "3"
   },
   "inputWidgetPreferences": null,
   "language": "python",
   "notebookMetadata": {
    "mostRecentlyExecutedCommandWithImplicitDF": {
     "commandId": 7113426783316645,
     "dataframes": [
      "_sqldf"
     ]
    },
    "pythonIndentUnit": 4
   },
   "notebookName": "RawDataParser_exact",
   "widgets": {}
  },
  "language_info": {
   "name": "python"
  }
 },
 "nbformat": 4,
 "nbformat_minor": 0
}
